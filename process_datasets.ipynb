{
 "cells": [
  {
   "cell_type": "code",
   "execution_count": 3,
   "id": "f25f5c6b-e95b-40e1-94e2-ecc91a6edeee",
   "metadata": {
    "tags": []
   },
   "outputs": [],
   "source": [
    "import pandas as pd\n",
    "import ast"
   ]
  },
  {
   "cell_type": "code",
   "execution_count": 4,
   "id": "1cfacbcf",
   "metadata": {
    "tags": []
   },
   "outputs": [
    {
     "name": "stdout",
     "output_type": "stream",
     "text": [
      "Python 3.11.6\n"
     ]
    }
   ],
   "source": [
    "!python3 --version"
   ]
  },
  {
   "cell_type": "code",
   "execution_count": 5,
   "id": "e4a0d444-3902-4f47-ba68-399be26ac150",
   "metadata": {
    "tags": []
   },
   "outputs": [],
   "source": [
    "path_ru = 'wikipedia/ru_wiki_revisions_22_23.csv'"
   ]
  },
  {
   "cell_type": "code",
   "execution_count": 2,
   "id": "fee1cad1-41f0-4b52-b88c-5b8f51699fe7",
   "metadata": {
    "tags": []
   },
   "outputs": [],
   "source": "path_uk = 'wikipedia/uk_wiki_revisions_22_23.csv'"
  },
  {
   "cell_type": "code",
   "execution_count": 4,
   "id": "b8f5b65e-0367-466b-9350-fd1d2ed0afa9",
   "metadata": {
    "tags": []
   },
   "outputs": [],
   "source": [
    "path_fork = 'wikipedia/ru_wiki_changed_df.csv'"
   ]
  },
  {
   "cell_type": "code",
   "execution_count": 6,
   "id": "27520384-37bd-460d-b5bb-df0fa7f85e54",
   "metadata": {
    "tags": []
   },
   "outputs": [],
   "source": [
    "ru_df = pd.read_csv(path_ru)"
   ]
  },
  {
   "cell_type": "code",
   "execution_count": 3,
   "id": "4706bc9f-84fc-4953-9760-c350edead114",
   "metadata": {
    "tags": []
   },
   "outputs": [],
   "source": [
    "uk_df = pd.read_csv(path_uk)"
   ]
  },
  {
   "cell_type": "code",
   "execution_count": 5,
   "id": "7ed98378-c2fd-4912-9014-c397cd38eb6d",
   "metadata": {
    "tags": []
   },
   "outputs": [],
   "source": [
    "fork_df = pd.read_csv(path_fork)"
   ]
  },
  {
   "cell_type": "code",
   "execution_count": 9,
   "id": "f86aa758-48e5-4132-9bd6-93997ba59d26",
   "metadata": {
    "tags": []
   },
   "outputs": [
    {
     "data": {
      "text/plain": [
       "Index(['page_name', 'status', 'lines_added', 'lines_deleted', 'lines_changed',\n",
       "       'actions', 'wiki_features', 'ruwiki_features', 'parsing_time',\n",
       "       'n_added', 'n_removed', 'n_changed', 'categories_added',\n",
       "       'categories_removed', 'topics', 'locations', 'templates_added',\n",
       "       'templates_deleted', 'params_changed', 'text_to_summary',\n",
       "       'text_to_embedding'],\n",
       "      dtype='object')"
      ]
     },
     "execution_count": 9,
     "metadata": {},
     "output_type": "execute_result"
    }
   ],
   "source": [
    "fork_df.columns"
   ]
  },
  {
   "cell_type": "code",
   "execution_count": 12,
   "id": "5a846ba8-170a-4faf-902a-2177b7a2fbd4",
   "metadata": {
    "tags": []
   },
   "outputs": [
    {
     "data": {
      "text/plain": [
       "\"['Мирное — 2 944 чел', 'Власти Украины это оспаривают, продолжая считать соответствующую область территорией Украины', 'Городу областного значения Мелитополь подчинены 30 населённых пунктов: 2 поселка городского типа, 23 села, 4 поселка и 1 станция', 'Станция Тащенак', 'Договор между Запорожской областью и Российской Федерацией от 30.09.2022 года определяет область, включая город Мелитополь, как новый субъект в составе Российской Федерации', 'Станция - 1', 'Административно-политический центр Запорожской области, административный центр Мелитопольского района и Мелитопольского городского округа (в состав обоих не входит)', 'Мелито́поль — город областного значения в южной части Запорожской области', 'Сёла - 23', 'Поселки городского типа - 2', 'Кирилловка — 3 464 чел', 'Малая Терновка', 'Поселки - 4']\""
      ]
     },
     "execution_count": 12,
     "metadata": {},
     "output_type": "execute_result"
    }
   ],
   "source": [
    "fork_df[fork_df['page_name']=='Мелитополь']['lines_added'][4676]"
   ]
  },
  {
   "cell_type": "code",
   "execution_count": 7,
   "id": "6698d44e-2eda-4f39-bad6-d7909530c247",
   "metadata": {
    "tags": []
   },
   "outputs": [],
   "source": [
    "wiki_fields = ['texts_insert', 'texts_removed', 'texts_change']\n",
    "\n",
    "for line in wiki_fields:\n",
    "    ru_df[line] = ru_df[line].apply(\n",
    "        lambda x: ast.literal_eval(x) if isinstance(x, str) else x\n",
    "    )"
   ]
  },
  {
   "cell_type": "code",
   "execution_count": 4,
   "id": "3df53349-746c-45c3-8fb5-cdb4d368a4ea",
   "metadata": {
    "tags": []
   },
   "outputs": [],
   "source": [
    "wiki_fields = ['texts_insert', 'texts_removed', 'texts_change']\n",
    "\n",
    "for line in wiki_fields:\n",
    "    uk_df[line] = uk_df[line].apply(\n",
    "        lambda x: ast.literal_eval(x) if isinstance(x, str) else x\n",
    "    )"
   ]
  },
  {
   "cell_type": "code",
   "execution_count": 4,
   "id": "971a3ea4-4c07-41e2-bf86-571483e0fd76",
   "metadata": {
    "tags": []
   },
   "outputs": [],
   "source": [
    "ruwiki_fields = ['lines_added', 'lines_changed', 'lines_deleted']\n",
    "\n",
    "for line in ruwiki_fields:\n",
    "    fork_df[line] = fork_df[line].apply(\n",
    "        lambda x: ast.literal_eval(x) if isinstance(x, str) else x\n",
    "    )\n",
    "\n",
    "fork_df['texts_insert'] = fork_df['lines_added']\n",
    "fork_df['texts_removed'] = fork_df['lines_deleted']\n",
    "fork_df['texts_change'] = fork_df['lines_changed']\n",
    "fork_df['page_title'] = fork_df['page_name']"
   ]
  },
  {
   "cell_type": "code",
   "execution_count": 8,
   "id": "46cbe224-d99f-472e-8491-4bc5079ea520",
   "metadata": {
    "tags": []
   },
   "outputs": [
    {
     "name": "stdout",
     "output_type": "stream",
     "text": [
      "RW length:  8384418\n"
     ]
    }
   ],
   "source": [
    "print('RW length: ', len(ru_df))"
   ]
  },
  {
   "cell_type": "code",
   "execution_count": 5,
   "id": "693d3c29-c36b-43c7-8f8a-44d4402d97e7",
   "metadata": {
    "tags": []
   },
   "outputs": [
    {
     "name": "stdout",
     "output_type": "stream",
     "text": [
      "UKW length:  3051931\n"
     ]
    }
   ],
   "source": [
    "print('UKW length: ', len(uk_df))"
   ]
  },
  {
   "cell_type": "code",
   "execution_count": 5,
   "id": "72cb8c2b-1de0-4918-84a1-3415046bf77d",
   "metadata": {
    "tags": []
   },
   "outputs": [
    {
     "name": "stdout",
     "output_type": "stream",
     "text": [
      "Fork length:  33664\n"
     ]
    }
   ],
   "source": [
    "print('Fork length: ', len(fork_df))"
   ]
  },
  {
   "cell_type": "code",
   "execution_count": 9,
   "id": "5ceac3f7-4f3d-49fc-898b-bac9c9e4eb0f",
   "metadata": {
    "tags": []
   },
   "outputs": [
    {
     "data": {
      "text/plain": [
       "Index(['wiki_db', 'event_comment', 'event_user_text_historical',\n",
       "       'event_user_seconds_since_previous_revision', 'revision_id',\n",
       "       'page_title', 'page_revision_count', 'revision_text_bytes_diff',\n",
       "       'revision_is_identity_reverted', 'event_timestamp',\n",
       "       'revision_parent_id', 'revision_first_identity_reverting_revision_id',\n",
       "       'reverting_revision_is_reverted_revision', 'is_reverted_by_good_user',\n",
       "       'is_mobile_edit', 'is_mobile_web_edit', 'is_visualeditor',\n",
       "       'is_wikieditor', 'is_mobile_app_edit', 'is_android_app_edit',\n",
       "       'is_ios_app_edit', 'texts_removed', 'texts_insert', 'texts_change',\n",
       "       'actions', 'batch_id'],\n",
       "      dtype='object')"
      ]
     },
     "execution_count": 9,
     "metadata": {},
     "output_type": "execute_result"
    }
   ],
   "source": [
    "ru_df.columns"
   ]
  },
  {
   "cell_type": "code",
   "execution_count": 6,
   "id": "b4cb294a-7631-4333-b7d0-7728a37a8cf1",
   "metadata": {
    "tags": []
   },
   "outputs": [
    {
     "data": {
      "text/plain": [
       "Index(['wiki_db', 'event_comment', 'event_user_text_historical',\n",
       "       'event_user_seconds_since_previous_revision', 'revision_id',\n",
       "       'page_title', 'page_revision_count', 'revision_text_bytes_diff',\n",
       "       'revision_is_identity_reverted', 'event_timestamp',\n",
       "       'revision_parent_id', 'revision_first_identity_reverting_revision_id',\n",
       "       'reverting_revision_is_reverted_revision', 'is_reverted_by_good_user',\n",
       "       'is_mobile_edit', 'is_mobile_web_edit', 'is_visualeditor',\n",
       "       'is_wikieditor', 'is_mobile_app_edit', 'is_android_app_edit',\n",
       "       'is_ios_app_edit', 'texts_removed', 'texts_insert', 'texts_change',\n",
       "       'actions'],\n",
       "      dtype='object')"
      ]
     },
     "execution_count": 6,
     "metadata": {},
     "output_type": "execute_result"
    }
   ],
   "source": [
    "uk_df.columns"
   ]
  },
  {
   "cell_type": "code",
   "execution_count": 6,
   "id": "be34b194-a51d-45da-9b29-166855ceb36f",
   "metadata": {
    "tags": []
   },
   "outputs": [
    {
     "data": {
      "text/plain": [
       "Index(['page_name', 'status', 'lines_added', 'lines_deleted', 'lines_changed',\n",
       "       'actions', 'wiki_features', 'ruwiki_features', 'parsing_time',\n",
       "       'n_added', 'n_removed', 'n_changed', 'categories_added',\n",
       "       'categories_removed', 'topics', 'locations', 'templates_added',\n",
       "       'templates_deleted', 'params_changed', 'text_to_summary',\n",
       "       'text_to_embedding', 'texts_insert', 'texts_removed', 'texts_change',\n",
       "       'page_title'],\n",
       "      dtype='object')"
      ]
     },
     "execution_count": 6,
     "metadata": {},
     "output_type": "execute_result"
    }
   ],
   "source": [
    "fork_df.columns"
   ]
  },
  {
   "cell_type": "code",
   "execution_count": 10,
   "id": "de4728ca-ec6e-4f1f-b44b-5fbc73f71f7d",
   "metadata": {
    "tags": []
   },
   "outputs": [
    {
     "name": "stdout",
     "output_type": "stream",
     "text": [
      "RW length:  3868310\n"
     ]
    },
    {
     "name": "stderr",
     "output_type": "stream",
     "text": [
      "/tmp/ipykernel_195/1446617990.py:7: SettingWithCopyWarning: \n",
      "A value is trying to be set on a copy of a slice from a DataFrame.\n",
      "Try using .loc[row_indexer,col_indexer] = value instead\n",
      "\n",
      "See the caveats in the documentation: https://pandas.pydata.org/pandas-docs/stable/user_guide/indexing.html#returning-a-view-versus-a-copy\n",
      "  ru_text['is_reverted'] = ru_text['revision_is_identity_reverted']\n",
      "/tmp/ipykernel_195/1446617990.py:8: SettingWithCopyWarning: \n",
      "A value is trying to be set on a copy of a slice from a DataFrame.\n",
      "Try using .loc[row_indexer,col_indexer] = value instead\n",
      "\n",
      "See the caveats in the documentation: https://pandas.pydata.org/pandas-docs/stable/user_guide/indexing.html#returning-a-view-versus-a-copy\n",
      "  ru_text['user'] = ru_text['event_user_text_historical']\n"
     ]
    }
   ],
   "source": [
    "ru_text = ru_df[ru_df.apply(\n",
    "    lambda x:   any(str(item).strip() for item in x['texts_change']) or\n",
    "                any(str(item).strip() for item in x['texts_insert']) or\n",
    "                any(str(item).strip() for item in x['texts_removed']), axis=1\n",
    ")]\n",
    "\n",
    "ru_text['is_reverted'] = ru_text['revision_is_identity_reverted']\n",
    "ru_text['user'] = ru_text['event_user_text_historical']\n",
    "print('RW length: ', len(ru_text))"
   ]
  },
  {
   "cell_type": "code",
   "execution_count": 7,
   "id": "2a95ceb0-97f0-4327-b58d-cde77523144c",
   "metadata": {
    "tags": []
   },
   "outputs": [
    {
     "name": "stdout",
     "output_type": "stream",
     "text": [
      "UKW length:  1272982\n"
     ]
    },
    {
     "name": "stderr",
     "output_type": "stream",
     "text": [
      "/tmp/ipykernel_580/1730388138.py:7: SettingWithCopyWarning: \n",
      "A value is trying to be set on a copy of a slice from a DataFrame.\n",
      "Try using .loc[row_indexer,col_indexer] = value instead\n",
      "\n",
      "See the caveats in the documentation: https://pandas.pydata.org/pandas-docs/stable/user_guide/indexing.html#returning-a-view-versus-a-copy\n",
      "  uk_text['is_reverted'] = uk_text['revision_is_identity_reverted']\n",
      "/tmp/ipykernel_580/1730388138.py:8: SettingWithCopyWarning: \n",
      "A value is trying to be set on a copy of a slice from a DataFrame.\n",
      "Try using .loc[row_indexer,col_indexer] = value instead\n",
      "\n",
      "See the caveats in the documentation: https://pandas.pydata.org/pandas-docs/stable/user_guide/indexing.html#returning-a-view-versus-a-copy\n",
      "  uk_text['user'] = uk_text['event_user_text_historical']\n"
     ]
    }
   ],
   "source": [
    "uk_text = uk_df[uk_df.apply(\n",
    "    lambda x:   any(str(item).strip() for item in x['texts_change']) or\n",
    "                any(str(item).strip() for item in x['texts_insert']) or\n",
    "                any(str(item).strip() for item in x['texts_removed']), axis=1\n",
    ")]\n",
    "\n",
    "uk_text['is_reverted'] = uk_text['revision_is_identity_reverted']\n",
    "uk_text['user'] = uk_text['event_user_text_historical']\n",
    "print('UKW length: ', len(uk_text))"
   ]
  },
  {
   "cell_type": "code",
   "execution_count": 7,
   "id": "6f46b6ba-7a94-453e-a581-dcac96d26dbf",
   "metadata": {
    "tags": []
   },
   "outputs": [
    {
     "name": "stdout",
     "output_type": "stream",
     "text": [
      "Fork length:  18520\n"
     ]
    }
   ],
   "source": [
    "fork_text = fork_df[fork_df.apply(\n",
    "    lambda x: any(str(item).strip() for item in x['texts_insert']) or\n",
    "              any(str(item).strip() for item in x['texts_change']) or\n",
    "                any(str(item).strip() for item in x['texts_removed']), axis=1\n",
    ")]\n",
    "\n",
    "print('Fork length: ', len(fork_text))"
   ]
  },
  {
   "cell_type": "code",
   "execution_count": 11,
   "id": "68fd45eb-c712-4d2b-8d3d-e96fefb22df5",
   "metadata": {
    "tags": []
   },
   "outputs": [
    {
     "name": "stdout",
     "output_type": "stream",
     "text": [
      "3868310\n"
     ]
    }
   ],
   "source": [
    "ru_text = ru_text[(ru_text['texts_insert'].apply(lambda x: len(x) > 0)) |\n",
    "                  (ru_text['texts_removed'].apply(lambda x: len(x) > 0)) |\n",
    "                  (ru_text['texts_change'].apply(lambda x: len(x) > 0))]\n",
    "\n",
    "print(len(ru_text))"
   ]
  },
  {
   "cell_type": "code",
   "execution_count": 8,
   "id": "eabd3086-a1bb-42c5-be95-57f0e0ba46ac",
   "metadata": {
    "tags": []
   },
   "outputs": [
    {
     "name": "stdout",
     "output_type": "stream",
     "text": [
      "1272982\n"
     ]
    }
   ],
   "source": [
    "uk_text = uk_text[(uk_text['texts_insert'].apply(lambda x: len(x) > 0)) |\n",
    "                  (uk_text['texts_removed'].apply(lambda x: len(x) > 0)) |\n",
    "                  (uk_text['texts_change'].apply(lambda x: len(x) > 0))]\n",
    "\n",
    "print(len(uk_text))"
   ]
  },
  {
   "cell_type": "code",
   "execution_count": 8,
   "id": "9e033244-26cd-4a00-8707-5313a8162743",
   "metadata": {
    "tags": []
   },
   "outputs": [
    {
     "name": "stdout",
     "output_type": "stream",
     "text": [
      "18520\n"
     ]
    }
   ],
   "source": [
    "fork_text = fork_text[(fork_text['texts_insert'].apply(lambda x: len(x) > 0)) |\n",
    "                  (fork_text['texts_removed'].apply(lambda x: len(x) > 0)) |\n",
    "                  (fork_text['texts_change'].apply(lambda x: len(x) > 0))]\n",
    "\n",
    "print(len(fork_text))"
   ]
  },
  {
   "cell_type": "code",
   "execution_count": 12,
   "id": "e00d9002-9f0c-4ac3-b786-25d983a9cbc3",
   "metadata": {
    "tags": []
   },
   "outputs": [
    {
     "data": {
      "application/vnd.jupyter.widget-view+json": {
       "model_id": "2617a3a91bfe4d48b405a85ef467a24c",
       "version_major": 2,
       "version_minor": 0
      },
      "text/plain": [
       "  0%|          | 0/3868310 [00:00<?, ?it/s]"
      ]
     },
     "metadata": {},
     "output_type": "display_data"
    },
    {
     "data": {
      "application/vnd.jupyter.widget-view+json": {
       "model_id": "9cd94201849941c699bd745ad32a3157",
       "version_major": 2,
       "version_minor": 0
      },
      "text/plain": [
       "  0%|          | 0/3868310 [00:00<?, ?it/s]"
      ]
     },
     "metadata": {},
     "output_type": "display_data"
    }
   ],
   "source": [
    "from tqdm.auto import tqdm\n",
    "\n",
    "tqdm.pandas()\n",
    "\n",
    "def clean_texts(text_list):\n",
    "    cleaned_list = []\n",
    "    for text in text_list:\n",
    "        if len(text.split()) > 1:\n",
    "            cleaned_list.append(text)\n",
    "    return cleaned_list\n",
    "\n",
    "# ru_text['texts'] = ru_text['texts_insert_extended'].progress_apply(clean_texts)\n",
    "ru_text['texts_insert'] = ru_text['texts_insert'].progress_apply(clean_texts)\n",
    "ru_text['texts_removed'] = ru_text['texts_removed'].progress_apply(clean_texts)\n",
    "# ru_text['texts_insert'] = ru_text['texts_insert'].progress_apply(clean_texts)"
   ]
  },
  {
   "cell_type": "code",
   "execution_count": 9,
   "id": "107cd6d4-8c57-4de4-9465-e9cfa05361c0",
   "metadata": {
    "tags": []
   },
   "outputs": [
    {
     "data": {
      "application/vnd.jupyter.widget-view+json": {
       "model_id": "0891385601af4557aec255e9fb8aa0dc",
       "version_major": 2,
       "version_minor": 0
      },
      "text/plain": [
       "  0%|          | 0/1272982 [00:00<?, ?it/s]"
      ]
     },
     "metadata": {},
     "output_type": "display_data"
    },
    {
     "data": {
      "application/vnd.jupyter.widget-view+json": {
       "model_id": "e7ccdb445e0147a6b114576682111e41",
       "version_major": 2,
       "version_minor": 0
      },
      "text/plain": [
       "  0%|          | 0/1272982 [00:00<?, ?it/s]"
      ]
     },
     "metadata": {},
     "output_type": "display_data"
    }
   ],
   "source": [
    "def clean_texts(text_list):\n",
    "    cleaned_list = []\n",
    "    for text in text_list:\n",
    "        if len(text.split()) > 1:\n",
    "            cleaned_list.append(text)\n",
    "    return cleaned_list\n",
    "\n",
    "# ru_text['texts'] = ru_text['texts_insert_extended'].progress_apply(clean_texts)\n",
    "uk_text['texts_insert'] = uk_text['texts_insert'].progress_apply(clean_texts)\n",
    "uk_text['texts_removed'] = uk_text['texts_removed'].progress_apply(clean_texts)\n",
    "# ru_text['texts_insert'] = ru_text['texts_insert'].progress_apply(clean_texts)"
   ]
  },
  {
   "cell_type": "code",
   "execution_count": 9,
   "id": "e58c7f78-b707-4353-bd32-543fe30d9f60",
   "metadata": {
    "tags": []
   },
   "outputs": [
    {
     "data": {
      "application/vnd.jupyter.widget-view+json": {
       "model_id": "22436ad03d10469682dfc5761d522d42",
       "version_major": 2,
       "version_minor": 0
      },
      "text/plain": [
       "  0%|          | 0/18520 [00:00<?, ?it/s]"
      ]
     },
     "metadata": {},
     "output_type": "display_data"
    },
    {
     "data": {
      "application/vnd.jupyter.widget-view+json": {
       "model_id": "091905066543439faa89089d4b4dd3d2",
       "version_major": 2,
       "version_minor": 0
      },
      "text/plain": [
       "  0%|          | 0/18520 [00:00<?, ?it/s]"
      ]
     },
     "metadata": {},
     "output_type": "display_data"
    }
   ],
   "source": [
    "def clean_texts(text_list):\n",
    "    cleaned_list = []\n",
    "    for text in text_list:\n",
    "        if len(text.split()) > 1:\n",
    "            cleaned_list.append(text)\n",
    "    return cleaned_list\n",
    "\n",
    "# ru_text['texts'] = ru_text['texts_insert_extended'].progress_apply(clean_texts)\n",
    "fork_text['texts_insert'] = fork_text['texts_insert'].progress_apply(clean_texts)\n",
    "fork_text['texts_removed'] = fork_text['texts_removed'].progress_apply(clean_texts)\n",
    "# ru_text['texts_insert'] = ru_text['texts_insert'].progress_apply(clean_texts)"
   ]
  },
  {
   "cell_type": "code",
   "execution_count": 13,
   "id": "76afcd17-f0dc-44cd-9763-6023d94aecde",
   "metadata": {
    "tags": []
   },
   "outputs": [],
   "source": [
    "for idx, i in ru_text[['texts_insert', 'texts_removed', 'texts_change', 'is_reverted']][:5].iterrows():\n",
    "    print(i['texts_insert'], i['texts_removed'], i['texts_change'], i['is_reverted'])"
   ]
  },
  {
   "cell_type": "code",
   "execution_count": 10,
   "id": "e5e612da-a818-4155-8b3d-db4c3d611243",
   "metadata": {
    "tags": []
   },
   "outputs": [],
   "source": [
    "for idx, i in uk_text[['texts_insert', 'texts_removed', 'texts_change', 'is_reverted']][:5].iterrows():\n",
    "    print(i['texts_insert'], i['texts_removed'], i['texts_change'], i['is_reverted'])"
   ]
  },
  {
   "cell_type": "code",
   "execution_count": 10,
   "id": "dba0796d-8943-43a4-9ca8-0430d2e14663",
   "metadata": {
    "tags": []
   },
   "outputs": [],
   "source": [
    "for idx, i in fork_text[['texts_insert', 'texts_removed', 'texts_change']][:5].iterrows():\n",
    "    print(i['texts_insert'], i['texts_removed'], i['texts_change'])"
   ]
  },
  {
   "cell_type": "code",
   "execution_count": 14,
   "id": "c7244c9d-006f-46db-b127-868f4dbd5319",
   "metadata": {
    "tags": []
   },
   "outputs": [
    {
     "name": "stdout",
     "output_type": "stream",
     "text": [
      "Before date length:  1527012\n",
      "After date length:  2341298\n"
     ]
    }
   ],
   "source": [
    "ru_text['event_date'] = pd.to_datetime(ru_text['event_timestamp'])\n",
    "\n",
    "start_date = pd.to_datetime('2022-10-01')\n",
    "\n",
    "before_ru_df = ru_text[ru_text['event_date'] < start_date]\n",
    "holdout_ru_df = ru_text[ru_text['event_date'] >= start_date]\n",
    "\n",
    "print('Before date length: ', len(before_ru_df))\n",
    "print('After date length: ', len(holdout_ru_df))"
   ]
  },
  {
   "cell_type": "code",
   "execution_count": 11,
   "id": "6875c787-d3e7-438a-98f4-0467edbaaee2",
   "metadata": {
    "tags": []
   },
   "outputs": [
    {
     "name": "stdout",
     "output_type": "stream",
     "text": [
      "Before date length:  441674\n",
      "After date length:  831308\n"
     ]
    }
   ],
   "source": [
    "uk_text['event_date'] = pd.to_datetime(uk_text['event_timestamp'])\n",
    "\n",
    "start_date = pd.to_datetime('2022-10-01')\n",
    "\n",
    "before_uk_df = uk_text[uk_text['event_date'] < start_date]\n",
    "holdout_uk_df = uk_text[uk_text['event_date'] >= start_date]\n",
    "\n",
    "print('Before date length: ', len(before_uk_df))\n",
    "print('After date length: ', len(holdout_uk_df))"
   ]
  },
  {
   "cell_type": "code",
   "execution_count": 15,
   "id": "dd68bbf8-4c82-485f-826f-1936fe20ff50",
   "metadata": {
    "tags": []
   },
   "outputs": [],
   "source": [
    "before_ru_df.to_csv('wikipedia/ru_before.csv')\n",
    "holdout_ru_df.to_csv('wikipedia/ru_holdout.csv')"
   ]
  },
  {
   "cell_type": "code",
   "execution_count": 12,
   "id": "1f3abab6-ca6a-46b5-a621-c771731661de",
   "metadata": {
    "tags": []
   },
   "outputs": [],
   "source": [
    "before_uk_df.to_csv('wikipedia/uk_before.csv')\n",
    "holdout_uk_df.to_csv('wikipedia/uk_holdout.csv')"
   ]
  },
  {
   "cell_type": "code",
   "execution_count": 11,
   "id": "431c30b9-e9f8-4272-885c-5e2390b22525",
   "metadata": {
    "tags": []
   },
   "outputs": [],
   "source": [
    "fork_text['texts_removed_change'] = fork_text['texts_change'].apply(lambda x: [t[0] for t in x])\n",
    "fork_text['texts_insert_change'] = fork_text['texts_change'].apply(lambda x: [t[1] for t in x])\n",
    "\n",
    "for idx, i in fork_text[['texts_insert_change', 'texts_removed_change', 'texts_change']][:5].iterrows():\n",
    "    print(i['texts_insert_change'], i['texts_removed_change'], i['texts_change'])"
   ]
  },
  {
   "cell_type": "code",
   "execution_count": 12,
   "id": "dca16567-6552-44d0-8f48-9313658f31ee",
   "metadata": {
    "tags": []
   },
   "outputs": [
    {
     "name": "stdout",
     "output_type": "stream",
     "text": [
      "37040\n"
     ]
    },
    {
     "data": {
      "text/html": [
       "<div>\n",
       "<style scoped>\n",
       "    .dataframe tbody tr th:only-of-type {\n",
       "        vertical-align: middle;\n",
       "    }\n",
       "\n",
       "    .dataframe tbody tr th {\n",
       "        vertical-align: top;\n",
       "    }\n",
       "\n",
       "    .dataframe thead th {\n",
       "        text-align: right;\n",
       "    }\n",
       "</style>\n",
       "<table border=\"1\" class=\"dataframe\">\n",
       "  <thead>\n",
       "    <tr style=\"text-align: right;\">\n",
       "      <th></th>\n",
       "      <th>page_title</th>\n",
       "      <th>text</th>\n",
       "      <th>label</th>\n",
       "    </tr>\n",
       "  </thead>\n",
       "  <tbody>\n",
       "    <tr>\n",
       "      <th>0</th>\n",
       "      <td>Железнодорожный (Нижегородская область)</td>\n",
       "      <td>[В посёлке имеются детский сад, школа, несколь...</td>\n",
       "      <td>1</td>\n",
       "    </tr>\n",
       "    <tr>\n",
       "      <th>1</th>\n",
       "      <td>Улица Чкалова (Мелитополь)</td>\n",
       "      <td>[Улица Чкалова — улица на севере Мелитополя, и...</td>\n",
       "      <td>1</td>\n",
       "    </tr>\n",
       "    <tr>\n",
       "      <th>2</th>\n",
       "      <td>Моленар</td>\n",
       "      <td>[Моленар, Брам (1961—2023) — программист, акти...</td>\n",
       "      <td>1</td>\n",
       "    </tr>\n",
       "    <tr>\n",
       "      <th>3</th>\n",
       "      <td>Чтак, Валерий Сергеевич</td>\n",
       "      <td>[2015 — «Доброе утро, иностранцы», Triangle Ga...</td>\n",
       "      <td>1</td>\n",
       "    </tr>\n",
       "    <tr>\n",
       "      <th>4</th>\n",
       "      <td>GSMA</td>\n",
       "      <td>[Megafon PSSC (Мегафон) (Компания была исключе...</td>\n",
       "      <td>1</td>\n",
       "    </tr>\n",
       "  </tbody>\n",
       "</table>\n",
       "</div>"
      ],
      "text/plain": [
       "                                page_title  \\\n",
       "0  Железнодорожный (Нижегородская область)   \n",
       "1               Улица Чкалова (Мелитополь)   \n",
       "2                                  Моленар   \n",
       "3                  Чтак, Валерий Сергеевич   \n",
       "4                                     GSMA   \n",
       "\n",
       "                                                text  label  \n",
       "0  [В посёлке имеются детский сад, школа, несколь...      1  \n",
       "1  [Улица Чкалова — улица на севере Мелитополя, и...      1  \n",
       "2  [Моленар, Брам (1961—2023) — программист, акти...      1  \n",
       "3  [2015 — «Доброе утро, иностранцы», Triangle Ga...      1  \n",
       "4  [Megafon PSSC (Мегафон) (Компания была исключе...      1  "
      ]
     },
     "execution_count": 12,
     "metadata": {},
     "output_type": "execute_result"
    }
   ],
   "source": [
    "df_inserted = fork_text[['page_title', 'texts_insert', 'texts_insert_change']].copy()\n",
    "df_inserted.loc[:, 'text'] = df_inserted['texts_insert']\n",
    "df_inserted.loc[:, 'text'] = df_inserted['texts_insert_change']\n",
    "df_inserted.loc[:, 'label'] = 1\n",
    "\n",
    "df_removed = fork_text[['page_title', 'texts_removed', 'texts_removed_change']].copy()\n",
    "df_removed.loc[:, 'text'] = df_removed['texts_removed']\n",
    "df_removed.loc[:, 'text'] = df_removed['texts_removed_change']\n",
    "df_removed.loc[:, 'label'] = 0\n",
    "\n",
    "extended_fork_df = pd.concat([df_inserted, df_removed], ignore_index=True)[['page_title', 'text', 'label']]\n",
    "\n",
    "print(len(extended_fork_df))\n",
    "extended_fork_df.head()"
   ]
  },
  {
   "cell_type": "code",
   "execution_count": 13,
   "id": "8b83db4c-bef6-46f8-80b6-50cd59782f1d",
   "metadata": {
    "tags": []
   },
   "outputs": [],
   "source": [
    "extended_fork_df.to_csv('wikipedia/extended_fork.csv')"
   ]
  },
  {
   "cell_type": "code",
   "execution_count": null,
   "id": "c26b3c7a-26da-4e00-b1c0-536ed2b36603",
   "metadata": {},
   "outputs": [],
   "source": []
  }
 ],
 "metadata": {
  "kernelspec": {
   "display_name": "Python 3 (ipykernel)",
   "language": "python",
   "name": "python3"
  },
  "language_info": {
   "codemirror_mode": {
    "name": "ipython",
    "version": 3
   },
   "file_extension": ".py",
   "mimetype": "text/x-python",
   "name": "python",
   "nbconvert_exporter": "python",
   "pygments_lexer": "ipython3",
   "version": "3.11.6"
  }
 },
 "nbformat": 4,
 "nbformat_minor": 5
}
