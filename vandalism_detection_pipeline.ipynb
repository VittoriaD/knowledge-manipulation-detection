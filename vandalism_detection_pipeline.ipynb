{
 "cells": [
  {
   "metadata": {},
   "cell_type": "markdown",
   "source": "### ENV Setup",
   "id": "cc50b1530e30c4a3"
  },
  {
   "cell_type": "code",
   "id": "2d2e20e5-3f5b-468e-b790-30df501bac1f",
   "metadata": {
    "tags": []
   },
   "source": [
    "!pip install transformers"
   ],
   "outputs": [],
   "execution_count": null
  },
  {
   "metadata": {},
   "cell_type": "code",
   "source": "!pip install optuna",
   "id": "5fe120ea51dc2852",
   "outputs": [],
   "execution_count": null
  },
  {
   "metadata": {},
   "cell_type": "code",
   "source": "!pip install scikit-learn",
   "id": "53ac8dc84fa0f526",
   "outputs": [],
   "execution_count": null
  },
  {
   "cell_type": "code",
   "id": "935866af-e32d-4ad6-aa5e-d31431319359",
   "metadata": {
    "tags": []
   },
   "source": [
    "!pip install 'accelerate>=0.26.0'"
   ],
   "outputs": [],
   "execution_count": null
  },
  {
   "cell_type": "code",
   "id": "39b92974-add6-45b9-a700-63830aa08bb0",
   "metadata": {
    "tags": []
   },
   "source": [
    "!pip install --upgrade pyarrow"
   ],
   "outputs": [],
   "execution_count": null
  },
  {
   "cell_type": "code",
   "id": "42dbefa1-85dd-4916-bf7d-89d503d3e297",
   "metadata": {
    "tags": []
   },
   "source": [
    "!pip install datasets"
   ],
   "outputs": [],
   "execution_count": null
  },
  {
   "cell_type": "code",
   "id": "2e563d1f-2123-494a-a0c4-b0d5d8f8ec94",
   "metadata": {
    "tags": []
   },
   "source": [
    "!pip install torch"
   ],
   "outputs": [],
   "execution_count": null
  },
  {
   "metadata": {},
   "cell_type": "markdown",
   "source": "### Vandalism Detection Binary Classifier",
   "id": "6e6223fc02d1c05c"
  },
  {
   "metadata": {
    "tags": [],
    "ExecuteTime": {
     "end_time": "2025-04-25T17:11:36.743521Z",
     "start_time": "2025-04-25T17:11:34.502960Z"
    }
   },
   "cell_type": "code",
   "source": [
    "import pandas as pd\n",
    "import torch\n",
    "from transformers import AutoTokenizer, AutoModelForSequenceClassification, AutoConfig\n",
    "from torch.nn.functional import softmax\n",
    "import numpy as np\n",
    "from tqdm import tqdm"
   ],
   "id": "51c9e581-c729-48a5-8432-b239de41f569",
   "outputs": [
    {
     "name": "stderr",
     "output_type": "stream",
     "text": [
      "/Users/vittoriadiachenko/PycharmProjects/knowledge_manipulation/.venv/lib/python3.10/site-packages/tqdm/auto.py:21: TqdmWarning: IProgress not found. Please update jupyter and ipywidgets. See https://ipywidgets.readthedocs.io/en/stable/user_install.html\n",
      "  from .autonotebook import tqdm as notebook_tqdm\n"
     ]
    }
   ],
   "execution_count": 2
  },
  {
   "metadata": {
    "tags": [],
    "ExecuteTime": {
     "end_time": "2025-04-25T17:11:37.292938Z",
     "start_time": "2025-04-25T17:11:36.746209Z"
    }
   },
   "cell_type": "code",
   "source": [
    "# Use whole dataset when possible\n",
    "# uk_df = pd.read_csv(\"wikipedia/uk_before.csv\")\n",
    "# ru_df = pd.read_csv(\"wikipedia/ru_before.csv\")\n",
    "\n",
    "uk_df = pd.read_csv(\"/Users/vittoriadiachenko/PycharmProjects/knowledge_manipulation/datasets/uk_before.csv\", nrows=10_000)\n",
    "ru_df = pd.read_csv(\"/Users/vittoriadiachenko/PycharmProjects/knowledge_manipulation/datasets/ru_before.csv\", nrows=10_000)"
   ],
   "id": "8297e214-f2a8-4a47-896c-3ce1ac9dc497",
   "outputs": [],
   "execution_count": 3
  },
  {
   "cell_type": "code",
   "id": "32ce683c-b375-4fdd-9d54-bf08aa1606da",
   "metadata": {
    "tags": [],
    "ExecuteTime": {
     "end_time": "2025-04-25T17:11:37.308704Z",
     "start_time": "2025-04-25T17:11:37.304488Z"
    }
   },
   "source": [
    "uk_df[\"lang\"] = \"uk\"\n",
    "ru_df[\"lang\"] = \"ru\"\n",
    "\n",
    "combined_df = pd.concat([uk_df, ru_df], ignore_index=True)\n",
    "\n",
    "# save to reuse\n",
    "# combined_df.to_csv(\"wikipedia/combined_before.csv\", index=False)"
   ],
   "outputs": [],
   "execution_count": 4
  },
  {
   "cell_type": "code",
   "id": "c5e40968-cada-446a-830c-e57d2e07173c",
   "metadata": {
    "tags": [],
    "ExecuteTime": {
     "end_time": "2025-04-25T17:11:37.760014Z",
     "start_time": "2025-04-25T17:11:37.317948Z"
    }
   },
   "source": [
    "combined_df['label'] = combined_df['is_reverted']\n",
    "combined_df[\"texts_insert\"] = combined_df[\"texts_insert\"].apply(lambda x: \"\\n\".join(eval(x)) if isinstance(x, str) else \"\\n\".join(x))\n",
    "combined_df[\"texts_removed\"] = combined_df[\"texts_removed\"].apply(lambda x: \"\\n\".join(eval(x)) if isinstance(x, str) else \"\\n\".join(x))\n",
    "\n",
    "print(len(combined_df))"
   ],
   "outputs": [
    {
     "name": "stdout",
     "output_type": "stream",
     "text": [
      "20000\n"
     ]
    }
   ],
   "execution_count": 5
  },
  {
   "cell_type": "code",
   "id": "a28f0d50-0921-4d23-804d-1a4f298d33e8",
   "metadata": {
    "tags": [],
    "ExecuteTime": {
     "end_time": "2025-04-25T17:11:38.088411Z",
     "start_time": "2025-04-25T17:11:37.771070Z"
    }
   },
   "source": [
    "def process_texts_change(x):\n",
    "    try:\n",
    "        if isinstance(x, str):\n",
    "            pairs = eval(x)\n",
    "        else:\n",
    "            pairs = x\n",
    "\n",
    "        if isinstance(pairs, list):\n",
    "            return \"\\n\".join([f\"{old} [SEP] {new}\" for old, new in pairs])\n",
    "        return \"\"\n",
    "    except:\n",
    "        return \"\"\n",
    "    \n",
    "combined_df[\"texts_change\"] = combined_df[\"texts_change\"].apply(process_texts_change)"
   ],
   "outputs": [],
   "execution_count": 6
  },
  {
   "cell_type": "code",
   "id": "2c46c15a-28b7-47c9-bf16-9a208baf6901",
   "metadata": {
    "tags": [],
    "ExecuteTime": {
     "end_time": "2025-04-25T17:11:38.285551Z",
     "start_time": "2025-04-25T17:11:38.098769Z"
    }
   },
   "source": [
    "combined_df = combined_df.drop_duplicates().reset_index(drop=True)"
   ],
   "outputs": [],
   "execution_count": 7
  },
  {
   "cell_type": "code",
   "id": "93d84df1-14d1-4e09-baae-16ed9987fbb4",
   "metadata": {
    "tags": [],
    "ExecuteTime": {
     "end_time": "2025-04-25T17:11:38.298255Z",
     "start_time": "2025-04-25T17:11:38.295173Z"
    }
   },
   "source": [
    "print(combined_df[\"label\"].value_counts())\n",
    "print(combined_df[\"label\"].value_counts(normalize=True) * 100)"
   ],
   "outputs": [
    {
     "name": "stdout",
     "output_type": "stream",
     "text": [
      "label\n",
      "0    17789\n",
      "1     2211\n",
      "Name: count, dtype: int64\n",
      "label\n",
      "0    88.945\n",
      "1    11.055\n",
      "Name: proportion, dtype: float64\n"
     ]
    }
   ],
   "execution_count": 8
  },
  {
   "cell_type": "code",
   "id": "9665cfc4-cb9f-4b8c-b371-2f3b817f3719",
   "metadata": {
    "tags": [],
    "ExecuteTime": {
     "end_time": "2025-04-25T17:11:38.520584Z",
     "start_time": "2025-04-25T17:11:38.505931Z"
    }
   },
   "source": [
    "from sklearn.utils import resample\n",
    "\n",
    "# split into majority and minority\n",
    "df_pos = combined_df[combined_df['label'] == 1]\n",
    "df_neg = combined_df[combined_df['label'] == 0]\n",
    "\n",
    "# downsample the majority class\n",
    "if len(df_pos) < len(df_neg):\n",
    "    df_neg_downsampled = resample(df_neg, replace=False, n_samples=len(df_pos), random_state=42)\n",
    "    df_balanced = pd.concat([df_pos, df_neg_downsampled])\n",
    "else:\n",
    "    df_pos_downsampled = resample(df_pos, replace=False, n_samples=len(df_neg), random_state=42)\n",
    "    df_balanced = pd.concat([df_pos_downsampled, df_neg])\n",
    "\n",
    "# shuffle and reset index\n",
    "df_balanced = df_balanced.sample(frac=1, random_state=42).reset_index(drop=True)\n",
    "\n",
    "# 4. Verify balance\n",
    "print(\"Balanced label distribution:\")\n",
    "print(df_balanced['label'].value_counts())\n",
    "print(df_balanced['label'].value_counts(normalize=True) * 100)\n"
   ],
   "outputs": [
    {
     "name": "stdout",
     "output_type": "stream",
     "text": [
      "Balanced label distribution:\n",
      "label\n",
      "0    2211\n",
      "1    2211\n",
      "Name: count, dtype: int64\n",
      "label\n",
      "0    50.0\n",
      "1    50.0\n",
      "Name: proportion, dtype: float64\n"
     ]
    }
   ],
   "execution_count": 9
  },
  {
   "cell_type": "markdown",
   "id": "d81e17ce-11cf-46d5-b883-466e130947e4",
   "metadata": {},
   "source": [
    "Fine tuning step"
   ]
  },
  {
   "cell_type": "code",
   "id": "0340d4ff-bec2-47cc-b833-2ea59d9a3c3a",
   "metadata": {
    "tags": [],
    "ExecuteTime": {
     "end_time": "2025-04-25T17:40:50.089876Z",
     "start_time": "2025-04-25T17:40:50.081140Z"
    }
   },
   "source": [
    "from transformers import TrainingArguments, Trainer, EarlyStoppingCallback\n",
    "from helpers.bert_trainer_helper import BertTrainerHelper\n",
    "\n",
    "def prepare_and_train(df, text_col, timestamp_col, model_tag):\n",
    "    print(f\"\\nTraining model for field: {text_col}\")\n",
    "    helper = BertTrainerHelper()\n",
    "\n",
    "    train_dataset, eval_dataset = helper.prepare_datasets_timestamp_split(df, text_col, timestamp_col)\n",
    "\n",
    "    def build_trainer(training_args):\n",
    "        return Trainer(\n",
    "            model_init=helper.model_init,\n",
    "            args=training_args,\n",
    "            train_dataset=train_dataset,\n",
    "            eval_dataset=eval_dataset,\n",
    "            tokenizer=helper.tokenizer,\n",
    "            compute_metrics=helper.compute_metrics,\n",
    "            callbacks=[EarlyStoppingCallback(early_stopping_patience=2)]\n",
    "        )\n",
    "\n",
    "    default_args = TrainingArguments(\n",
    "        output_dir=f\"./model_{model_tag}\",\n",
    "        eval_strategy=\"epoch\",\n",
    "        save_strategy=\"epoch\",\n",
    "        num_train_epochs=4,\n",
    "        per_device_train_batch_size=32,\n",
    "        per_device_eval_batch_size=32,\n",
    "        learning_rate=2e-5,\n",
    "        weight_decay=0.01,\n",
    "        warmup_ratio=0.1,\n",
    "        load_best_model_at_end=True,\n",
    "        metric_for_best_model=\"eval_f1\",\n",
    "        logging_dir=f\"./logs_{model_tag}\",\n",
    "        save_total_limit=1,\n",
    "        bf16=True\n",
    "    )\n",
    "\n",
    "    trainer = build_trainer(default_args)\n",
    "\n",
    "    # best_run = trainer.hyperparameter_search(\n",
    "    #     direction=\"maximize\",\n",
    "    #     hp_space=helper.hp_space_optuna,\n",
    "    #     n_trials=10\n",
    "    # )\n",
    "    best_run = trainer.hyperparameter_search(\n",
    "    direction=\"maximize\",\n",
    "    backend=\"optuna\",\n",
    "    n_trials=10,\n",
    "    hp_space=helper.hp_space_optuna,\n",
    "    compute_objective=lambda metrics: metrics.get(\"eval_f1\", 0)\n",
    "    )\n",
    "\n",
    "\n",
    "    best_args = TrainingArguments(\n",
    "        output_dir=f\"./model_{model_tag}_best\",\n",
    "        eval_strategy=\"epoch\",\n",
    "        save_strategy=\"epoch\",\n",
    "        num_train_epochs=best_run.hyperparameters[\"num_train_epochs\"],\n",
    "        per_device_train_batch_size=best_run.hyperparameters[\"per_device_train_batch_size\"],\n",
    "        per_device_eval_batch_size=best_run.hyperparameters[\"per_device_train_batch_size\"],\n",
    "        learning_rate=best_run.hyperparameters[\"learning_rate\"],\n",
    "        weight_decay=best_run.hyperparameters[\"weight_decay\"],\n",
    "        warmup_ratio=0.1,\n",
    "        load_best_model_at_end=True,\n",
    "        metric_for_best_model=\"eval_f1\",\n",
    "        logging_dir=f\"./logs_{model_tag}_best\",\n",
    "        save_total_limit=1,\n",
    "        bf16=True\n",
    "    )\n",
    "\n",
    "    final_trainer = build_trainer(best_args)\n",
    "    final_trainer.train()\n",
    "\n",
    "    print(f\"Best hyperparameters for {model_tag}:\", best_run.hyperparameters)\n",
    "\n",
    "    print(\"Final evaluation:\")\n",
    "    metrics = final_trainer.evaluate()\n",
    "    print(metrics)\n",
    "\n",
    "    final_trainer.save_model(f\"./model_{model_tag}_best\")"
   ],
   "outputs": [],
   "execution_count": 13
  },
  {
   "cell_type": "code",
   "id": "9165e91e-35c5-4a87-b075-c1565d66eadf",
   "metadata": {
    "tags": [],
    "ExecuteTime": {
     "end_time": "2025-04-25T17:42:59.211003Z",
     "start_time": "2025-04-25T17:40:51.021546Z"
    }
   },
   "source": [
    "# find hyperparams, train model, evaluate model and save final version\n",
    "\n",
    "prepare_and_train(combined_df, 'texts_insert', 'event_timestamp', 'vandalism_insert')\n",
    "prepare_and_train(combined_df, 'texts_removed', 'event_timestamp', 'vandalism_remove')\n",
    "prepare_and_train(combined_df, 'texts_change', 'event_timestamp', 'vandalism_change')\n",
    "prepare_and_train(combined_df, 'page_title', 'event_timestamp', 'vandalism_title')"
   ],
   "outputs": [
    {
     "name": "stdout",
     "output_type": "stream",
     "text": [
      "\n",
      "Training model for field: texts_insert\n"
     ]
    },
    {
     "name": "stderr",
     "output_type": "stream",
     "text": [
      "Map: 100%|██████████| 1542/1542 [00:00<00:00, 4978.47 examples/s]\n",
      "Map: 100%|██████████| 330/330 [00:00<00:00, 4845.12 examples/s]\n",
      "/var/folders/cn/4_gky4xj72v72pn40z8_0vh80000gn/T/ipykernel_96172/3093871826.py:11: FutureWarning: `tokenizer` is deprecated and will be removed in version 5.0.0 for `Trainer.__init__`. Use `processing_class` instead.\n",
      "  return Trainer(\n",
      "Some weights of BertForSequenceClassification were not initialized from the model checkpoint at bert-base-multilingual-cased and are newly initialized: ['classifier.bias', 'classifier.weight']\n",
      "You should probably TRAIN this model on a down-stream task to be able to use it for predictions and inference.\n",
      "[I 2025-04-25 20:40:53,242] A new study created in memory with name: no-name-f9ad6cf2-1e43-4924-84f8-3175ddccff66\n",
      "Some weights of BertForSequenceClassification were not initialized from the model checkpoint at bert-base-multilingual-cased and are newly initialized: ['classifier.bias', 'classifier.weight']\n",
      "You should probably TRAIN this model on a down-stream task to be able to use it for predictions and inference.\n",
      "/Users/vittoriadiachenko/PycharmProjects/knowledge_manipulation/.venv/lib/python3.10/site-packages/torch/utils/data/dataloader.py:683: UserWarning: 'pin_memory' argument is set as true but not supported on MPS now, then device pinned memory won't be used.\n",
      "  warnings.warn(warn_msg)\n"
     ]
    },
    {
     "data": {
      "text/plain": [
       "<IPython.core.display.HTML object>"
      ],
      "text/html": [
       "\n",
       "    <div>\n",
       "      \n",
       "      <progress value='4' max='582' style='width:300px; height:20px; vertical-align: middle;'></progress>\n",
       "      [  4/582 01:20 < 6:28:35, 0.02 it/s, Epoch 0.03/6]\n",
       "    </div>\n",
       "    <table border=\"1\" class=\"dataframe\">\n",
       "  <thead>\n",
       " <tr style=\"text-align: left;\">\n",
       "      <th>Epoch</th>\n",
       "      <th>Training Loss</th>\n",
       "      <th>Validation Loss</th>\n",
       "    </tr>\n",
       "  </thead>\n",
       "  <tbody>\n",
       "  </tbody>\n",
       "</table><p>"
      ]
     },
     "metadata": {},
     "output_type": "display_data"
    },
    {
     "name": "stderr",
     "output_type": "stream",
     "text": [
      "[W 2025-04-25 20:42:58,437] Trial 0 failed with parameters: {'learning_rate': 2.1008384045070094e-05, 'num_train_epochs': 6, 'per_device_train_batch_size': 16, 'weight_decay': 0.11298196827241126} because of the following error: KeyboardInterrupt().\n",
      "Traceback (most recent call last):\n",
      "  File \"/Users/vittoriadiachenko/PycharmProjects/knowledge_manipulation/.venv/lib/python3.10/site-packages/optuna/study/_optimize.py\", line 197, in _run_trial\n",
      "    value_or_values = func(trial)\n",
      "  File \"/Users/vittoriadiachenko/PycharmProjects/knowledge_manipulation/.venv/lib/python3.10/site-packages/transformers/integrations/integration_utils.py\", line 254, in _objective\n",
      "    trainer.train(resume_from_checkpoint=checkpoint, trial=trial)\n",
      "  File \"/Users/vittoriadiachenko/PycharmProjects/knowledge_manipulation/.venv/lib/python3.10/site-packages/transformers/trainer.py\", line 2245, in train\n",
      "    return inner_training_loop(\n",
      "  File \"/Users/vittoriadiachenko/PycharmProjects/knowledge_manipulation/.venv/lib/python3.10/site-packages/transformers/trainer.py\", line 2593, in _inner_training_loop\n",
      "    _grad_norm = self.accelerator.clip_grad_norm_(\n",
      "  File \"/Users/vittoriadiachenko/PycharmProjects/knowledge_manipulation/.venv/lib/python3.10/site-packages/accelerate/accelerator.py\", line 2610, in clip_grad_norm_\n",
      "    return torch.nn.utils.clip_grad_norm_(parameters, max_norm, norm_type=norm_type)\n",
      "  File \"/Users/vittoriadiachenko/PycharmProjects/knowledge_manipulation/.venv/lib/python3.10/site-packages/torch/nn/utils/clip_grad.py\", line 38, in _no_grad_wrapper\n",
      "    return func(*args, **kwargs)\n",
      "  File \"/Users/vittoriadiachenko/PycharmProjects/knowledge_manipulation/.venv/lib/python3.10/site-packages/torch/nn/utils/clip_grad.py\", line 219, in clip_grad_norm_\n",
      "    total_norm = _get_total_norm(grads, norm_type, error_if_nonfinite, foreach)\n",
      "  File \"/Users/vittoriadiachenko/PycharmProjects/knowledge_manipulation/.venv/lib/python3.10/site-packages/torch/nn/utils/clip_grad.py\", line 38, in _no_grad_wrapper\n",
      "    return func(*args, **kwargs)\n",
      "  File \"/Users/vittoriadiachenko/PycharmProjects/knowledge_manipulation/.venv/lib/python3.10/site-packages/torch/nn/utils/clip_grad.py\", line 98, in _get_total_norm\n",
      "    [torch.linalg.vector_norm(g, norm_type) for g in device_tensors]\n",
      "  File \"/Users/vittoriadiachenko/PycharmProjects/knowledge_manipulation/.venv/lib/python3.10/site-packages/torch/nn/utils/clip_grad.py\", line 98, in <listcomp>\n",
      "    [torch.linalg.vector_norm(g, norm_type) for g in device_tensors]\n",
      "KeyboardInterrupt\n",
      "[W 2025-04-25 20:42:58,522] Trial 0 failed with value None.\n"
     ]
    },
    {
     "ename": "KeyboardInterrupt",
     "evalue": "",
     "output_type": "error",
     "traceback": [
      "\u001B[0;31m---------------------------------------------------------------------------\u001B[0m",
      "\u001B[0;31mKeyboardInterrupt\u001B[0m                         Traceback (most recent call last)",
      "Cell \u001B[0;32mIn[15], line 3\u001B[0m\n\u001B[1;32m      1\u001B[0m \u001B[38;5;66;03m# find hyperparams, train model, evaluate model and save final version\u001B[39;00m\n\u001B[0;32m----> 3\u001B[0m \u001B[43mprepare_and_train\u001B[49m\u001B[43m(\u001B[49m\u001B[43mcombined_df\u001B[49m\u001B[43m,\u001B[49m\u001B[43m \u001B[49m\u001B[38;5;124;43m'\u001B[39;49m\u001B[38;5;124;43mtexts_insert\u001B[39;49m\u001B[38;5;124;43m'\u001B[39;49m\u001B[43m,\u001B[49m\u001B[43m \u001B[49m\u001B[38;5;124;43m'\u001B[39;49m\u001B[38;5;124;43mevent_timestamp\u001B[39;49m\u001B[38;5;124;43m'\u001B[39;49m\u001B[43m,\u001B[49m\u001B[43m \u001B[49m\u001B[38;5;124;43m'\u001B[39;49m\u001B[38;5;124;43mvandalism_insert\u001B[39;49m\u001B[38;5;124;43m'\u001B[39;49m\u001B[43m)\u001B[49m\n\u001B[1;32m      4\u001B[0m prepare_and_train(combined_df, \u001B[38;5;124m'\u001B[39m\u001B[38;5;124mtexts_removed\u001B[39m\u001B[38;5;124m'\u001B[39m, \u001B[38;5;124m'\u001B[39m\u001B[38;5;124mevent_timestamp\u001B[39m\u001B[38;5;124m'\u001B[39m, \u001B[38;5;124m'\u001B[39m\u001B[38;5;124mvandalism_remove\u001B[39m\u001B[38;5;124m'\u001B[39m)\n\u001B[1;32m      5\u001B[0m prepare_and_train(combined_df, \u001B[38;5;124m'\u001B[39m\u001B[38;5;124mtexts_change\u001B[39m\u001B[38;5;124m'\u001B[39m, \u001B[38;5;124m'\u001B[39m\u001B[38;5;124mevent_timestamp\u001B[39m\u001B[38;5;124m'\u001B[39m, \u001B[38;5;124m'\u001B[39m\u001B[38;5;124mvandalism_change\u001B[39m\u001B[38;5;124m'\u001B[39m)\n",
      "Cell \u001B[0;32mIn[13], line 45\u001B[0m, in \u001B[0;36mprepare_and_train\u001B[0;34m(df, text_col, timestamp_col, model_tag)\u001B[0m\n\u001B[1;32m     38\u001B[0m trainer \u001B[38;5;241m=\u001B[39m build_trainer(default_args)\n\u001B[1;32m     40\u001B[0m \u001B[38;5;66;03m# best_run = trainer.hyperparameter_search(\u001B[39;00m\n\u001B[1;32m     41\u001B[0m \u001B[38;5;66;03m#     direction=\"maximize\",\u001B[39;00m\n\u001B[1;32m     42\u001B[0m \u001B[38;5;66;03m#     hp_space=helper.hp_space_optuna,\u001B[39;00m\n\u001B[1;32m     43\u001B[0m \u001B[38;5;66;03m#     n_trials=10\u001B[39;00m\n\u001B[1;32m     44\u001B[0m \u001B[38;5;66;03m# )\u001B[39;00m\n\u001B[0;32m---> 45\u001B[0m best_run \u001B[38;5;241m=\u001B[39m \u001B[43mtrainer\u001B[49m\u001B[38;5;241;43m.\u001B[39;49m\u001B[43mhyperparameter_search\u001B[49m\u001B[43m(\u001B[49m\n\u001B[1;32m     46\u001B[0m \u001B[43m\u001B[49m\u001B[43mdirection\u001B[49m\u001B[38;5;241;43m=\u001B[39;49m\u001B[38;5;124;43m\"\u001B[39;49m\u001B[38;5;124;43mmaximize\u001B[39;49m\u001B[38;5;124;43m\"\u001B[39;49m\u001B[43m,\u001B[49m\n\u001B[1;32m     47\u001B[0m \u001B[43m\u001B[49m\u001B[43mbackend\u001B[49m\u001B[38;5;241;43m=\u001B[39;49m\u001B[38;5;124;43m\"\u001B[39;49m\u001B[38;5;124;43moptuna\u001B[39;49m\u001B[38;5;124;43m\"\u001B[39;49m\u001B[43m,\u001B[49m\n\u001B[1;32m     48\u001B[0m \u001B[43m\u001B[49m\u001B[43mn_trials\u001B[49m\u001B[38;5;241;43m=\u001B[39;49m\u001B[38;5;241;43m10\u001B[39;49m\u001B[43m,\u001B[49m\n\u001B[1;32m     49\u001B[0m \u001B[43m\u001B[49m\u001B[43mhp_space\u001B[49m\u001B[38;5;241;43m=\u001B[39;49m\u001B[43mhelper\u001B[49m\u001B[38;5;241;43m.\u001B[39;49m\u001B[43mhp_space_optuna\u001B[49m\u001B[43m,\u001B[49m\n\u001B[1;32m     50\u001B[0m \u001B[43m\u001B[49m\u001B[43mcompute_objective\u001B[49m\u001B[38;5;241;43m=\u001B[39;49m\u001B[38;5;28;43;01mlambda\u001B[39;49;00m\u001B[43m \u001B[49m\u001B[43mmetrics\u001B[49m\u001B[43m:\u001B[49m\u001B[43m \u001B[49m\u001B[43mmetrics\u001B[49m\u001B[38;5;241;43m.\u001B[39;49m\u001B[43mget\u001B[49m\u001B[43m(\u001B[49m\u001B[38;5;124;43m\"\u001B[39;49m\u001B[38;5;124;43meval_f1\u001B[39;49m\u001B[38;5;124;43m\"\u001B[39;49m\u001B[43m,\u001B[49m\u001B[43m \u001B[49m\u001B[38;5;241;43m0\u001B[39;49m\u001B[43m)\u001B[49m\n\u001B[1;32m     51\u001B[0m \u001B[43m\u001B[49m\u001B[43m)\u001B[49m\n\u001B[1;32m     54\u001B[0m best_args \u001B[38;5;241m=\u001B[39m TrainingArguments(\n\u001B[1;32m     55\u001B[0m     output_dir\u001B[38;5;241m=\u001B[39m\u001B[38;5;124mf\u001B[39m\u001B[38;5;124m\"\u001B[39m\u001B[38;5;124m./model_\u001B[39m\u001B[38;5;132;01m{\u001B[39;00mmodel_tag\u001B[38;5;132;01m}\u001B[39;00m\u001B[38;5;124m_best\u001B[39m\u001B[38;5;124m\"\u001B[39m,\n\u001B[1;32m     56\u001B[0m     eval_strategy\u001B[38;5;241m=\u001B[39m\u001B[38;5;124m\"\u001B[39m\u001B[38;5;124mepoch\u001B[39m\u001B[38;5;124m\"\u001B[39m,\n\u001B[0;32m   (...)\u001B[0m\n\u001B[1;32m     68\u001B[0m     bf16\u001B[38;5;241m=\u001B[39m\u001B[38;5;28;01mTrue\u001B[39;00m\n\u001B[1;32m     69\u001B[0m )\n\u001B[1;32m     71\u001B[0m final_trainer \u001B[38;5;241m=\u001B[39m build_trainer(best_args)\n",
      "File \u001B[0;32m~/PycharmProjects/knowledge_manipulation/.venv/lib/python3.10/site-packages/transformers/trainer.py:3626\u001B[0m, in \u001B[0;36mTrainer.hyperparameter_search\u001B[0;34m(self, hp_space, compute_objective, n_trials, direction, backend, hp_name, **kwargs)\u001B[0m\n\u001B[1;32m   3623\u001B[0m \u001B[38;5;28mself\u001B[39m\u001B[38;5;241m.\u001B[39mhp_name \u001B[38;5;241m=\u001B[39m hp_name\n\u001B[1;32m   3624\u001B[0m \u001B[38;5;28mself\u001B[39m\u001B[38;5;241m.\u001B[39mcompute_objective \u001B[38;5;241m=\u001B[39m default_compute_objective \u001B[38;5;28;01mif\u001B[39;00m compute_objective \u001B[38;5;129;01mis\u001B[39;00m \u001B[38;5;28;01mNone\u001B[39;00m \u001B[38;5;28;01melse\u001B[39;00m compute_objective\n\u001B[0;32m-> 3626\u001B[0m best_run \u001B[38;5;241m=\u001B[39m \u001B[43mbackend_obj\u001B[49m\u001B[38;5;241;43m.\u001B[39;49m\u001B[43mrun\u001B[49m\u001B[43m(\u001B[49m\u001B[38;5;28;43mself\u001B[39;49m\u001B[43m,\u001B[49m\u001B[43m \u001B[49m\u001B[43mn_trials\u001B[49m\u001B[43m,\u001B[49m\u001B[43m \u001B[49m\u001B[43mdirection\u001B[49m\u001B[43m,\u001B[49m\u001B[43m \u001B[49m\u001B[38;5;241;43m*\u001B[39;49m\u001B[38;5;241;43m*\u001B[39;49m\u001B[43mkwargs\u001B[49m\u001B[43m)\u001B[49m\n\u001B[1;32m   3628\u001B[0m \u001B[38;5;28mself\u001B[39m\u001B[38;5;241m.\u001B[39mhp_search_backend \u001B[38;5;241m=\u001B[39m \u001B[38;5;28;01mNone\u001B[39;00m\n\u001B[1;32m   3629\u001B[0m \u001B[38;5;28;01mreturn\u001B[39;00m best_run\n",
      "File \u001B[0;32m~/PycharmProjects/knowledge_manipulation/.venv/lib/python3.10/site-packages/transformers/hyperparameter_search.py:72\u001B[0m, in \u001B[0;36mOptunaBackend.run\u001B[0;34m(self, trainer, n_trials, direction, **kwargs)\u001B[0m\n\u001B[1;32m     71\u001B[0m \u001B[38;5;28;01mdef\u001B[39;00m\u001B[38;5;250m \u001B[39m\u001B[38;5;21mrun\u001B[39m(\u001B[38;5;28mself\u001B[39m, trainer, n_trials: \u001B[38;5;28mint\u001B[39m, direction: \u001B[38;5;28mstr\u001B[39m, \u001B[38;5;241m*\u001B[39m\u001B[38;5;241m*\u001B[39mkwargs):\n\u001B[0;32m---> 72\u001B[0m     \u001B[38;5;28;01mreturn\u001B[39;00m \u001B[43mrun_hp_search_optuna\u001B[49m\u001B[43m(\u001B[49m\u001B[43mtrainer\u001B[49m\u001B[43m,\u001B[49m\u001B[43m \u001B[49m\u001B[43mn_trials\u001B[49m\u001B[43m,\u001B[49m\u001B[43m \u001B[49m\u001B[43mdirection\u001B[49m\u001B[43m,\u001B[49m\u001B[43m \u001B[49m\u001B[38;5;241;43m*\u001B[39;49m\u001B[38;5;241;43m*\u001B[39;49m\u001B[43mkwargs\u001B[49m\u001B[43m)\u001B[49m\n",
      "File \u001B[0;32m~/PycharmProjects/knowledge_manipulation/.venv/lib/python3.10/site-packages/transformers/integrations/integration_utils.py:272\u001B[0m, in \u001B[0;36mrun_hp_search_optuna\u001B[0;34m(trainer, n_trials, direction, **kwargs)\u001B[0m\n\u001B[1;32m    270\u001B[0m direction \u001B[38;5;241m=\u001B[39m \u001B[38;5;28;01mNone\u001B[39;00m \u001B[38;5;28;01mif\u001B[39;00m directions \u001B[38;5;129;01mis\u001B[39;00m \u001B[38;5;129;01mnot\u001B[39;00m \u001B[38;5;28;01mNone\u001B[39;00m \u001B[38;5;28;01melse\u001B[39;00m direction\n\u001B[1;32m    271\u001B[0m study \u001B[38;5;241m=\u001B[39m optuna\u001B[38;5;241m.\u001B[39mcreate_study(direction\u001B[38;5;241m=\u001B[39mdirection, directions\u001B[38;5;241m=\u001B[39mdirections, \u001B[38;5;241m*\u001B[39m\u001B[38;5;241m*\u001B[39mkwargs)\n\u001B[0;32m--> 272\u001B[0m \u001B[43mstudy\u001B[49m\u001B[38;5;241;43m.\u001B[39;49m\u001B[43moptimize\u001B[49m\u001B[43m(\u001B[49m\u001B[43m_objective\u001B[49m\u001B[43m,\u001B[49m\u001B[43m \u001B[49m\u001B[43mn_trials\u001B[49m\u001B[38;5;241;43m=\u001B[39;49m\u001B[43mn_trials\u001B[49m\u001B[43m,\u001B[49m\u001B[43m \u001B[49m\u001B[43mtimeout\u001B[49m\u001B[38;5;241;43m=\u001B[39;49m\u001B[43mtimeout\u001B[49m\u001B[43m,\u001B[49m\u001B[43m \u001B[49m\u001B[43mn_jobs\u001B[49m\u001B[38;5;241;43m=\u001B[39;49m\u001B[43mn_jobs\u001B[49m\u001B[43m,\u001B[49m\u001B[43m \u001B[49m\u001B[43mgc_after_trial\u001B[49m\u001B[38;5;241;43m=\u001B[39;49m\u001B[43mgc_after_trial\u001B[49m\u001B[43m)\u001B[49m\n\u001B[1;32m    273\u001B[0m \u001B[38;5;28;01mif\u001B[39;00m \u001B[38;5;129;01mnot\u001B[39;00m study\u001B[38;5;241m.\u001B[39m_is_multi_objective():\n\u001B[1;32m    274\u001B[0m     best_trial \u001B[38;5;241m=\u001B[39m study\u001B[38;5;241m.\u001B[39mbest_trial\n",
      "File \u001B[0;32m~/PycharmProjects/knowledge_manipulation/.venv/lib/python3.10/site-packages/optuna/study/study.py:475\u001B[0m, in \u001B[0;36mStudy.optimize\u001B[0;34m(self, func, n_trials, timeout, n_jobs, catch, callbacks, gc_after_trial, show_progress_bar)\u001B[0m\n\u001B[1;32m    373\u001B[0m \u001B[38;5;28;01mdef\u001B[39;00m\u001B[38;5;250m \u001B[39m\u001B[38;5;21moptimize\u001B[39m(\n\u001B[1;32m    374\u001B[0m     \u001B[38;5;28mself\u001B[39m,\n\u001B[1;32m    375\u001B[0m     func: ObjectiveFuncType,\n\u001B[0;32m   (...)\u001B[0m\n\u001B[1;32m    382\u001B[0m     show_progress_bar: \u001B[38;5;28mbool\u001B[39m \u001B[38;5;241m=\u001B[39m \u001B[38;5;28;01mFalse\u001B[39;00m,\n\u001B[1;32m    383\u001B[0m ) \u001B[38;5;241m-\u001B[39m\u001B[38;5;241m>\u001B[39m \u001B[38;5;28;01mNone\u001B[39;00m:\n\u001B[1;32m    384\u001B[0m \u001B[38;5;250m    \u001B[39m\u001B[38;5;124;03m\"\"\"Optimize an objective function.\u001B[39;00m\n\u001B[1;32m    385\u001B[0m \n\u001B[1;32m    386\u001B[0m \u001B[38;5;124;03m    Optimization is done by choosing a suitable set of hyperparameter values from a given\u001B[39;00m\n\u001B[0;32m   (...)\u001B[0m\n\u001B[1;32m    473\u001B[0m \u001B[38;5;124;03m            If nested invocation of this method occurs.\u001B[39;00m\n\u001B[1;32m    474\u001B[0m \u001B[38;5;124;03m    \"\"\"\u001B[39;00m\n\u001B[0;32m--> 475\u001B[0m     \u001B[43m_optimize\u001B[49m\u001B[43m(\u001B[49m\n\u001B[1;32m    476\u001B[0m \u001B[43m        \u001B[49m\u001B[43mstudy\u001B[49m\u001B[38;5;241;43m=\u001B[39;49m\u001B[38;5;28;43mself\u001B[39;49m\u001B[43m,\u001B[49m\n\u001B[1;32m    477\u001B[0m \u001B[43m        \u001B[49m\u001B[43mfunc\u001B[49m\u001B[38;5;241;43m=\u001B[39;49m\u001B[43mfunc\u001B[49m\u001B[43m,\u001B[49m\n\u001B[1;32m    478\u001B[0m \u001B[43m        \u001B[49m\u001B[43mn_trials\u001B[49m\u001B[38;5;241;43m=\u001B[39;49m\u001B[43mn_trials\u001B[49m\u001B[43m,\u001B[49m\n\u001B[1;32m    479\u001B[0m \u001B[43m        \u001B[49m\u001B[43mtimeout\u001B[49m\u001B[38;5;241;43m=\u001B[39;49m\u001B[43mtimeout\u001B[49m\u001B[43m,\u001B[49m\n\u001B[1;32m    480\u001B[0m \u001B[43m        \u001B[49m\u001B[43mn_jobs\u001B[49m\u001B[38;5;241;43m=\u001B[39;49m\u001B[43mn_jobs\u001B[49m\u001B[43m,\u001B[49m\n\u001B[1;32m    481\u001B[0m \u001B[43m        \u001B[49m\u001B[43mcatch\u001B[49m\u001B[38;5;241;43m=\u001B[39;49m\u001B[38;5;28;43mtuple\u001B[39;49m\u001B[43m(\u001B[49m\u001B[43mcatch\u001B[49m\u001B[43m)\u001B[49m\u001B[43m \u001B[49m\u001B[38;5;28;43;01mif\u001B[39;49;00m\u001B[43m \u001B[49m\u001B[38;5;28;43misinstance\u001B[39;49m\u001B[43m(\u001B[49m\u001B[43mcatch\u001B[49m\u001B[43m,\u001B[49m\u001B[43m \u001B[49m\u001B[43mIterable\u001B[49m\u001B[43m)\u001B[49m\u001B[43m \u001B[49m\u001B[38;5;28;43;01melse\u001B[39;49;00m\u001B[43m \u001B[49m\u001B[43m(\u001B[49m\u001B[43mcatch\u001B[49m\u001B[43m,\u001B[49m\u001B[43m)\u001B[49m\u001B[43m,\u001B[49m\n\u001B[1;32m    482\u001B[0m \u001B[43m        \u001B[49m\u001B[43mcallbacks\u001B[49m\u001B[38;5;241;43m=\u001B[39;49m\u001B[43mcallbacks\u001B[49m\u001B[43m,\u001B[49m\n\u001B[1;32m    483\u001B[0m \u001B[43m        \u001B[49m\u001B[43mgc_after_trial\u001B[49m\u001B[38;5;241;43m=\u001B[39;49m\u001B[43mgc_after_trial\u001B[49m\u001B[43m,\u001B[49m\n\u001B[1;32m    484\u001B[0m \u001B[43m        \u001B[49m\u001B[43mshow_progress_bar\u001B[49m\u001B[38;5;241;43m=\u001B[39;49m\u001B[43mshow_progress_bar\u001B[49m\u001B[43m,\u001B[49m\n\u001B[1;32m    485\u001B[0m \u001B[43m    \u001B[49m\u001B[43m)\u001B[49m\n",
      "File \u001B[0;32m~/PycharmProjects/knowledge_manipulation/.venv/lib/python3.10/site-packages/optuna/study/_optimize.py:63\u001B[0m, in \u001B[0;36m_optimize\u001B[0;34m(study, func, n_trials, timeout, n_jobs, catch, callbacks, gc_after_trial, show_progress_bar)\u001B[0m\n\u001B[1;32m     61\u001B[0m \u001B[38;5;28;01mtry\u001B[39;00m:\n\u001B[1;32m     62\u001B[0m     \u001B[38;5;28;01mif\u001B[39;00m n_jobs \u001B[38;5;241m==\u001B[39m \u001B[38;5;241m1\u001B[39m:\n\u001B[0;32m---> 63\u001B[0m         \u001B[43m_optimize_sequential\u001B[49m\u001B[43m(\u001B[49m\n\u001B[1;32m     64\u001B[0m \u001B[43m            \u001B[49m\u001B[43mstudy\u001B[49m\u001B[43m,\u001B[49m\n\u001B[1;32m     65\u001B[0m \u001B[43m            \u001B[49m\u001B[43mfunc\u001B[49m\u001B[43m,\u001B[49m\n\u001B[1;32m     66\u001B[0m \u001B[43m            \u001B[49m\u001B[43mn_trials\u001B[49m\u001B[43m,\u001B[49m\n\u001B[1;32m     67\u001B[0m \u001B[43m            \u001B[49m\u001B[43mtimeout\u001B[49m\u001B[43m,\u001B[49m\n\u001B[1;32m     68\u001B[0m \u001B[43m            \u001B[49m\u001B[43mcatch\u001B[49m\u001B[43m,\u001B[49m\n\u001B[1;32m     69\u001B[0m \u001B[43m            \u001B[49m\u001B[43mcallbacks\u001B[49m\u001B[43m,\u001B[49m\n\u001B[1;32m     70\u001B[0m \u001B[43m            \u001B[49m\u001B[43mgc_after_trial\u001B[49m\u001B[43m,\u001B[49m\n\u001B[1;32m     71\u001B[0m \u001B[43m            \u001B[49m\u001B[43mreseed_sampler_rng\u001B[49m\u001B[38;5;241;43m=\u001B[39;49m\u001B[38;5;28;43;01mFalse\u001B[39;49;00m\u001B[43m,\u001B[49m\n\u001B[1;32m     72\u001B[0m \u001B[43m            \u001B[49m\u001B[43mtime_start\u001B[49m\u001B[38;5;241;43m=\u001B[39;49m\u001B[38;5;28;43;01mNone\u001B[39;49;00m\u001B[43m,\u001B[49m\n\u001B[1;32m     73\u001B[0m \u001B[43m            \u001B[49m\u001B[43mprogress_bar\u001B[49m\u001B[38;5;241;43m=\u001B[39;49m\u001B[43mprogress_bar\u001B[49m\u001B[43m,\u001B[49m\n\u001B[1;32m     74\u001B[0m \u001B[43m        \u001B[49m\u001B[43m)\u001B[49m\n\u001B[1;32m     75\u001B[0m     \u001B[38;5;28;01melse\u001B[39;00m:\n\u001B[1;32m     76\u001B[0m         \u001B[38;5;28;01mif\u001B[39;00m n_jobs \u001B[38;5;241m==\u001B[39m \u001B[38;5;241m-\u001B[39m\u001B[38;5;241m1\u001B[39m:\n",
      "File \u001B[0;32m~/PycharmProjects/knowledge_manipulation/.venv/lib/python3.10/site-packages/optuna/study/_optimize.py:160\u001B[0m, in \u001B[0;36m_optimize_sequential\u001B[0;34m(study, func, n_trials, timeout, catch, callbacks, gc_after_trial, reseed_sampler_rng, time_start, progress_bar)\u001B[0m\n\u001B[1;32m    157\u001B[0m         \u001B[38;5;28;01mbreak\u001B[39;00m\n\u001B[1;32m    159\u001B[0m \u001B[38;5;28;01mtry\u001B[39;00m:\n\u001B[0;32m--> 160\u001B[0m     frozen_trial \u001B[38;5;241m=\u001B[39m \u001B[43m_run_trial\u001B[49m\u001B[43m(\u001B[49m\u001B[43mstudy\u001B[49m\u001B[43m,\u001B[49m\u001B[43m \u001B[49m\u001B[43mfunc\u001B[49m\u001B[43m,\u001B[49m\u001B[43m \u001B[49m\u001B[43mcatch\u001B[49m\u001B[43m)\u001B[49m\n\u001B[1;32m    161\u001B[0m \u001B[38;5;28;01mfinally\u001B[39;00m:\n\u001B[1;32m    162\u001B[0m     \u001B[38;5;66;03m# The following line mitigates memory problems that can be occurred in some\u001B[39;00m\n\u001B[1;32m    163\u001B[0m     \u001B[38;5;66;03m# environments (e.g., services that use computing containers such as GitHub Actions).\u001B[39;00m\n\u001B[1;32m    164\u001B[0m     \u001B[38;5;66;03m# Please refer to the following PR for further details:\u001B[39;00m\n\u001B[1;32m    165\u001B[0m     \u001B[38;5;66;03m# https://github.com/optuna/optuna/pull/325.\u001B[39;00m\n\u001B[1;32m    166\u001B[0m     \u001B[38;5;28;01mif\u001B[39;00m gc_after_trial:\n",
      "File \u001B[0;32m~/PycharmProjects/knowledge_manipulation/.venv/lib/python3.10/site-packages/optuna/study/_optimize.py:248\u001B[0m, in \u001B[0;36m_run_trial\u001B[0;34m(study, func, catch)\u001B[0m\n\u001B[1;32m    241\u001B[0m         \u001B[38;5;28;01massert\u001B[39;00m \u001B[38;5;28;01mFalse\u001B[39;00m, \u001B[38;5;124m\"\u001B[39m\u001B[38;5;124mShould not reach.\u001B[39m\u001B[38;5;124m\"\u001B[39m\n\u001B[1;32m    243\u001B[0m \u001B[38;5;28;01mif\u001B[39;00m (\n\u001B[1;32m    244\u001B[0m     frozen_trial\u001B[38;5;241m.\u001B[39mstate \u001B[38;5;241m==\u001B[39m TrialState\u001B[38;5;241m.\u001B[39mFAIL\n\u001B[1;32m    245\u001B[0m     \u001B[38;5;129;01mand\u001B[39;00m func_err \u001B[38;5;129;01mis\u001B[39;00m \u001B[38;5;129;01mnot\u001B[39;00m \u001B[38;5;28;01mNone\u001B[39;00m\n\u001B[1;32m    246\u001B[0m     \u001B[38;5;129;01mand\u001B[39;00m \u001B[38;5;129;01mnot\u001B[39;00m \u001B[38;5;28misinstance\u001B[39m(func_err, catch)\n\u001B[1;32m    247\u001B[0m ):\n\u001B[0;32m--> 248\u001B[0m     \u001B[38;5;28;01mraise\u001B[39;00m func_err\n\u001B[1;32m    249\u001B[0m \u001B[38;5;28;01mreturn\u001B[39;00m frozen_trial\n",
      "File \u001B[0;32m~/PycharmProjects/knowledge_manipulation/.venv/lib/python3.10/site-packages/optuna/study/_optimize.py:197\u001B[0m, in \u001B[0;36m_run_trial\u001B[0;34m(study, func, catch)\u001B[0m\n\u001B[1;32m    195\u001B[0m \u001B[38;5;28;01mwith\u001B[39;00m get_heartbeat_thread(trial\u001B[38;5;241m.\u001B[39m_trial_id, study\u001B[38;5;241m.\u001B[39m_storage):\n\u001B[1;32m    196\u001B[0m     \u001B[38;5;28;01mtry\u001B[39;00m:\n\u001B[0;32m--> 197\u001B[0m         value_or_values \u001B[38;5;241m=\u001B[39m \u001B[43mfunc\u001B[49m\u001B[43m(\u001B[49m\u001B[43mtrial\u001B[49m\u001B[43m)\u001B[49m\n\u001B[1;32m    198\u001B[0m     \u001B[38;5;28;01mexcept\u001B[39;00m exceptions\u001B[38;5;241m.\u001B[39mTrialPruned \u001B[38;5;28;01mas\u001B[39;00m e:\n\u001B[1;32m    199\u001B[0m         \u001B[38;5;66;03m# TODO(mamu): Handle multi-objective cases.\u001B[39;00m\n\u001B[1;32m    200\u001B[0m         state \u001B[38;5;241m=\u001B[39m TrialState\u001B[38;5;241m.\u001B[39mPRUNED\n",
      "File \u001B[0;32m~/PycharmProjects/knowledge_manipulation/.venv/lib/python3.10/site-packages/transformers/integrations/integration_utils.py:254\u001B[0m, in \u001B[0;36mrun_hp_search_optuna.<locals>._objective\u001B[0;34m(trial, checkpoint_dir)\u001B[0m\n\u001B[1;32m    252\u001B[0m     trainer\u001B[38;5;241m.\u001B[39mtrain(resume_from_checkpoint\u001B[38;5;241m=\u001B[39mcheckpoint, trial\u001B[38;5;241m=\u001B[39mtrial)\n\u001B[1;32m    253\u001B[0m \u001B[38;5;28;01melse\u001B[39;00m:\n\u001B[0;32m--> 254\u001B[0m     \u001B[43mtrainer\u001B[49m\u001B[38;5;241;43m.\u001B[39;49m\u001B[43mtrain\u001B[49m\u001B[43m(\u001B[49m\u001B[43mresume_from_checkpoint\u001B[49m\u001B[38;5;241;43m=\u001B[39;49m\u001B[43mcheckpoint\u001B[49m\u001B[43m,\u001B[49m\u001B[43m \u001B[49m\u001B[43mtrial\u001B[49m\u001B[38;5;241;43m=\u001B[39;49m\u001B[43mtrial\u001B[49m\u001B[43m)\u001B[49m\n\u001B[1;32m    255\u001B[0m \u001B[38;5;66;03m# If there hasn't been any evaluation during the training loop.\u001B[39;00m\n\u001B[1;32m    256\u001B[0m \u001B[38;5;28;01mif\u001B[39;00m \u001B[38;5;28mgetattr\u001B[39m(trainer, \u001B[38;5;124m\"\u001B[39m\u001B[38;5;124mobjective\u001B[39m\u001B[38;5;124m\"\u001B[39m, \u001B[38;5;28;01mNone\u001B[39;00m) \u001B[38;5;129;01mis\u001B[39;00m \u001B[38;5;28;01mNone\u001B[39;00m:\n",
      "File \u001B[0;32m~/PycharmProjects/knowledge_manipulation/.venv/lib/python3.10/site-packages/transformers/trainer.py:2245\u001B[0m, in \u001B[0;36mTrainer.train\u001B[0;34m(self, resume_from_checkpoint, trial, ignore_keys_for_eval, **kwargs)\u001B[0m\n\u001B[1;32m   2243\u001B[0m         hf_hub_utils\u001B[38;5;241m.\u001B[39menable_progress_bars()\n\u001B[1;32m   2244\u001B[0m \u001B[38;5;28;01melse\u001B[39;00m:\n\u001B[0;32m-> 2245\u001B[0m     \u001B[38;5;28;01mreturn\u001B[39;00m \u001B[43minner_training_loop\u001B[49m\u001B[43m(\u001B[49m\n\u001B[1;32m   2246\u001B[0m \u001B[43m        \u001B[49m\u001B[43margs\u001B[49m\u001B[38;5;241;43m=\u001B[39;49m\u001B[43margs\u001B[49m\u001B[43m,\u001B[49m\n\u001B[1;32m   2247\u001B[0m \u001B[43m        \u001B[49m\u001B[43mresume_from_checkpoint\u001B[49m\u001B[38;5;241;43m=\u001B[39;49m\u001B[43mresume_from_checkpoint\u001B[49m\u001B[43m,\u001B[49m\n\u001B[1;32m   2248\u001B[0m \u001B[43m        \u001B[49m\u001B[43mtrial\u001B[49m\u001B[38;5;241;43m=\u001B[39;49m\u001B[43mtrial\u001B[49m\u001B[43m,\u001B[49m\n\u001B[1;32m   2249\u001B[0m \u001B[43m        \u001B[49m\u001B[43mignore_keys_for_eval\u001B[49m\u001B[38;5;241;43m=\u001B[39;49m\u001B[43mignore_keys_for_eval\u001B[49m\u001B[43m,\u001B[49m\n\u001B[1;32m   2250\u001B[0m \u001B[43m    \u001B[49m\u001B[43m)\u001B[49m\n",
      "File \u001B[0;32m~/PycharmProjects/knowledge_manipulation/.venv/lib/python3.10/site-packages/transformers/trainer.py:2593\u001B[0m, in \u001B[0;36mTrainer._inner_training_loop\u001B[0;34m(self, batch_size, args, resume_from_checkpoint, trial, ignore_keys_for_eval)\u001B[0m\n\u001B[1;32m   2588\u001B[0m     _grad_norm \u001B[38;5;241m=\u001B[39m nn\u001B[38;5;241m.\u001B[39mutils\u001B[38;5;241m.\u001B[39mclip_grad_norm_(\n\u001B[1;32m   2589\u001B[0m         amp\u001B[38;5;241m.\u001B[39mmaster_params(\u001B[38;5;28mself\u001B[39m\u001B[38;5;241m.\u001B[39moptimizer),\n\u001B[1;32m   2590\u001B[0m         args\u001B[38;5;241m.\u001B[39mmax_grad_norm,\n\u001B[1;32m   2591\u001B[0m     )\n\u001B[1;32m   2592\u001B[0m \u001B[38;5;28;01melse\u001B[39;00m:\n\u001B[0;32m-> 2593\u001B[0m     _grad_norm \u001B[38;5;241m=\u001B[39m \u001B[38;5;28;43mself\u001B[39;49m\u001B[38;5;241;43m.\u001B[39;49m\u001B[43maccelerator\u001B[49m\u001B[38;5;241;43m.\u001B[39;49m\u001B[43mclip_grad_norm_\u001B[49m\u001B[43m(\u001B[49m\n\u001B[1;32m   2594\u001B[0m \u001B[43m        \u001B[49m\u001B[43mmodel\u001B[49m\u001B[38;5;241;43m.\u001B[39;49m\u001B[43mparameters\u001B[49m\u001B[43m(\u001B[49m\u001B[43m)\u001B[49m\u001B[43m,\u001B[49m\n\u001B[1;32m   2595\u001B[0m \u001B[43m        \u001B[49m\u001B[43margs\u001B[49m\u001B[38;5;241;43m.\u001B[39;49m\u001B[43mmax_grad_norm\u001B[49m\u001B[43m,\u001B[49m\n\u001B[1;32m   2596\u001B[0m \u001B[43m    \u001B[49m\u001B[43m)\u001B[49m\n\u001B[1;32m   2598\u001B[0m \u001B[38;5;28;01mif\u001B[39;00m (\n\u001B[1;32m   2599\u001B[0m     is_accelerate_available()\n\u001B[1;32m   2600\u001B[0m     \u001B[38;5;129;01mand\u001B[39;00m \u001B[38;5;28mself\u001B[39m\u001B[38;5;241m.\u001B[39maccelerator\u001B[38;5;241m.\u001B[39mdistributed_type \u001B[38;5;241m==\u001B[39m DistributedType\u001B[38;5;241m.\u001B[39mDEEPSPEED\n\u001B[1;32m   2601\u001B[0m ):\n\u001B[1;32m   2602\u001B[0m     grad_norm \u001B[38;5;241m=\u001B[39m model\u001B[38;5;241m.\u001B[39mget_global_grad_norm()\n",
      "File \u001B[0;32m~/PycharmProjects/knowledge_manipulation/.venv/lib/python3.10/site-packages/accelerate/accelerator.py:2610\u001B[0m, in \u001B[0;36mAccelerator.clip_grad_norm_\u001B[0;34m(self, parameters, max_norm, norm_type)\u001B[0m\n\u001B[1;32m   2608\u001B[0m                 \u001B[38;5;28;01mreturn\u001B[39;00m model\u001B[38;5;241m.\u001B[39mclip_grad_norm_(max_norm, norm_type)\n\u001B[1;32m   2609\u001B[0m \u001B[38;5;28mself\u001B[39m\u001B[38;5;241m.\u001B[39munscale_gradients()\n\u001B[0;32m-> 2610\u001B[0m \u001B[38;5;28;01mreturn\u001B[39;00m \u001B[43mtorch\u001B[49m\u001B[38;5;241;43m.\u001B[39;49m\u001B[43mnn\u001B[49m\u001B[38;5;241;43m.\u001B[39;49m\u001B[43mutils\u001B[49m\u001B[38;5;241;43m.\u001B[39;49m\u001B[43mclip_grad_norm_\u001B[49m\u001B[43m(\u001B[49m\u001B[43mparameters\u001B[49m\u001B[43m,\u001B[49m\u001B[43m \u001B[49m\u001B[43mmax_norm\u001B[49m\u001B[43m,\u001B[49m\u001B[43m \u001B[49m\u001B[43mnorm_type\u001B[49m\u001B[38;5;241;43m=\u001B[39;49m\u001B[43mnorm_type\u001B[49m\u001B[43m)\u001B[49m\n",
      "File \u001B[0;32m~/PycharmProjects/knowledge_manipulation/.venv/lib/python3.10/site-packages/torch/nn/utils/clip_grad.py:38\u001B[0m, in \u001B[0;36m_no_grad.<locals>._no_grad_wrapper\u001B[0;34m(*args, **kwargs)\u001B[0m\n\u001B[1;32m     36\u001B[0m \u001B[38;5;28;01mdef\u001B[39;00m\u001B[38;5;250m \u001B[39m\u001B[38;5;21m_no_grad_wrapper\u001B[39m(\u001B[38;5;241m*\u001B[39margs, \u001B[38;5;241m*\u001B[39m\u001B[38;5;241m*\u001B[39mkwargs):\n\u001B[1;32m     37\u001B[0m     \u001B[38;5;28;01mwith\u001B[39;00m torch\u001B[38;5;241m.\u001B[39mno_grad():\n\u001B[0;32m---> 38\u001B[0m         \u001B[38;5;28;01mreturn\u001B[39;00m \u001B[43mfunc\u001B[49m\u001B[43m(\u001B[49m\u001B[38;5;241;43m*\u001B[39;49m\u001B[43margs\u001B[49m\u001B[43m,\u001B[49m\u001B[43m \u001B[49m\u001B[38;5;241;43m*\u001B[39;49m\u001B[38;5;241;43m*\u001B[39;49m\u001B[43mkwargs\u001B[49m\u001B[43m)\u001B[49m\n",
      "File \u001B[0;32m~/PycharmProjects/knowledge_manipulation/.venv/lib/python3.10/site-packages/torch/nn/utils/clip_grad.py:219\u001B[0m, in \u001B[0;36mclip_grad_norm_\u001B[0;34m(parameters, max_norm, norm_type, error_if_nonfinite, foreach)\u001B[0m\n\u001B[1;32m    217\u001B[0m     parameters \u001B[38;5;241m=\u001B[39m \u001B[38;5;28mlist\u001B[39m(parameters)\n\u001B[1;32m    218\u001B[0m grads \u001B[38;5;241m=\u001B[39m [p\u001B[38;5;241m.\u001B[39mgrad \u001B[38;5;28;01mfor\u001B[39;00m p \u001B[38;5;129;01min\u001B[39;00m parameters \u001B[38;5;28;01mif\u001B[39;00m p\u001B[38;5;241m.\u001B[39mgrad \u001B[38;5;129;01mis\u001B[39;00m \u001B[38;5;129;01mnot\u001B[39;00m \u001B[38;5;28;01mNone\u001B[39;00m]\n\u001B[0;32m--> 219\u001B[0m total_norm \u001B[38;5;241m=\u001B[39m \u001B[43m_get_total_norm\u001B[49m\u001B[43m(\u001B[49m\u001B[43mgrads\u001B[49m\u001B[43m,\u001B[49m\u001B[43m \u001B[49m\u001B[43mnorm_type\u001B[49m\u001B[43m,\u001B[49m\u001B[43m \u001B[49m\u001B[43merror_if_nonfinite\u001B[49m\u001B[43m,\u001B[49m\u001B[43m \u001B[49m\u001B[43mforeach\u001B[49m\u001B[43m)\u001B[49m\n\u001B[1;32m    220\u001B[0m _clip_grads_with_norm_(parameters, max_norm, total_norm, foreach)\n\u001B[1;32m    221\u001B[0m \u001B[38;5;28;01mreturn\u001B[39;00m total_norm\n",
      "File \u001B[0;32m~/PycharmProjects/knowledge_manipulation/.venv/lib/python3.10/site-packages/torch/nn/utils/clip_grad.py:38\u001B[0m, in \u001B[0;36m_no_grad.<locals>._no_grad_wrapper\u001B[0;34m(*args, **kwargs)\u001B[0m\n\u001B[1;32m     36\u001B[0m \u001B[38;5;28;01mdef\u001B[39;00m\u001B[38;5;250m \u001B[39m\u001B[38;5;21m_no_grad_wrapper\u001B[39m(\u001B[38;5;241m*\u001B[39margs, \u001B[38;5;241m*\u001B[39m\u001B[38;5;241m*\u001B[39mkwargs):\n\u001B[1;32m     37\u001B[0m     \u001B[38;5;28;01mwith\u001B[39;00m torch\u001B[38;5;241m.\u001B[39mno_grad():\n\u001B[0;32m---> 38\u001B[0m         \u001B[38;5;28;01mreturn\u001B[39;00m \u001B[43mfunc\u001B[49m\u001B[43m(\u001B[49m\u001B[38;5;241;43m*\u001B[39;49m\u001B[43margs\u001B[49m\u001B[43m,\u001B[49m\u001B[43m \u001B[49m\u001B[38;5;241;43m*\u001B[39;49m\u001B[38;5;241;43m*\u001B[39;49m\u001B[43mkwargs\u001B[49m\u001B[43m)\u001B[49m\n",
      "File \u001B[0;32m~/PycharmProjects/knowledge_manipulation/.venv/lib/python3.10/site-packages/torch/nn/utils/clip_grad.py:98\u001B[0m, in \u001B[0;36m_get_total_norm\u001B[0;34m(tensors, norm_type, error_if_nonfinite, foreach)\u001B[0m\n\u001B[1;32m     93\u001B[0m         \u001B[38;5;28;01mraise\u001B[39;00m \u001B[38;5;167;01mRuntimeError\u001B[39;00m(\n\u001B[1;32m     94\u001B[0m             \u001B[38;5;124mf\u001B[39m\u001B[38;5;124m\"\u001B[39m\u001B[38;5;124mforeach=True was passed, but can\u001B[39m\u001B[38;5;124m'\u001B[39m\u001B[38;5;124mt use the foreach API on \u001B[39m\u001B[38;5;132;01m{\u001B[39;00mdevice\u001B[38;5;241m.\u001B[39mtype\u001B[38;5;132;01m}\u001B[39;00m\u001B[38;5;124m tensors\u001B[39m\u001B[38;5;124m\"\u001B[39m\n\u001B[1;32m     95\u001B[0m         )\n\u001B[1;32m     96\u001B[0m     \u001B[38;5;28;01melse\u001B[39;00m:\n\u001B[1;32m     97\u001B[0m         norms\u001B[38;5;241m.\u001B[39mextend(\n\u001B[0;32m---> 98\u001B[0m             [torch\u001B[38;5;241m.\u001B[39mlinalg\u001B[38;5;241m.\u001B[39mvector_norm(g, norm_type) \u001B[38;5;28;01mfor\u001B[39;00m g \u001B[38;5;129;01min\u001B[39;00m device_tensors]\n\u001B[1;32m     99\u001B[0m         )\n\u001B[1;32m    101\u001B[0m total_norm \u001B[38;5;241m=\u001B[39m torch\u001B[38;5;241m.\u001B[39mlinalg\u001B[38;5;241m.\u001B[39mvector_norm(\n\u001B[1;32m    102\u001B[0m     torch\u001B[38;5;241m.\u001B[39mstack([norm\u001B[38;5;241m.\u001B[39mto(first_device) \u001B[38;5;28;01mfor\u001B[39;00m norm \u001B[38;5;129;01min\u001B[39;00m norms]), norm_type\n\u001B[1;32m    103\u001B[0m )\n\u001B[1;32m    105\u001B[0m \u001B[38;5;28;01mif\u001B[39;00m error_if_nonfinite \u001B[38;5;129;01mand\u001B[39;00m torch\u001B[38;5;241m.\u001B[39mlogical_or(total_norm\u001B[38;5;241m.\u001B[39misnan(), total_norm\u001B[38;5;241m.\u001B[39misinf()):\n",
      "File \u001B[0;32m~/PycharmProjects/knowledge_manipulation/.venv/lib/python3.10/site-packages/torch/nn/utils/clip_grad.py:98\u001B[0m, in \u001B[0;36m<listcomp>\u001B[0;34m(.0)\u001B[0m\n\u001B[1;32m     93\u001B[0m         \u001B[38;5;28;01mraise\u001B[39;00m \u001B[38;5;167;01mRuntimeError\u001B[39;00m(\n\u001B[1;32m     94\u001B[0m             \u001B[38;5;124mf\u001B[39m\u001B[38;5;124m\"\u001B[39m\u001B[38;5;124mforeach=True was passed, but can\u001B[39m\u001B[38;5;124m'\u001B[39m\u001B[38;5;124mt use the foreach API on \u001B[39m\u001B[38;5;132;01m{\u001B[39;00mdevice\u001B[38;5;241m.\u001B[39mtype\u001B[38;5;132;01m}\u001B[39;00m\u001B[38;5;124m tensors\u001B[39m\u001B[38;5;124m\"\u001B[39m\n\u001B[1;32m     95\u001B[0m         )\n\u001B[1;32m     96\u001B[0m     \u001B[38;5;28;01melse\u001B[39;00m:\n\u001B[1;32m     97\u001B[0m         norms\u001B[38;5;241m.\u001B[39mextend(\n\u001B[0;32m---> 98\u001B[0m             [\u001B[43mtorch\u001B[49m\u001B[38;5;241;43m.\u001B[39;49m\u001B[43mlinalg\u001B[49m\u001B[38;5;241;43m.\u001B[39;49m\u001B[43mvector_norm\u001B[49m\u001B[43m(\u001B[49m\u001B[43mg\u001B[49m\u001B[43m,\u001B[49m\u001B[43m \u001B[49m\u001B[43mnorm_type\u001B[49m\u001B[43m)\u001B[49m \u001B[38;5;28;01mfor\u001B[39;00m g \u001B[38;5;129;01min\u001B[39;00m device_tensors]\n\u001B[1;32m     99\u001B[0m         )\n\u001B[1;32m    101\u001B[0m total_norm \u001B[38;5;241m=\u001B[39m torch\u001B[38;5;241m.\u001B[39mlinalg\u001B[38;5;241m.\u001B[39mvector_norm(\n\u001B[1;32m    102\u001B[0m     torch\u001B[38;5;241m.\u001B[39mstack([norm\u001B[38;5;241m.\u001B[39mto(first_device) \u001B[38;5;28;01mfor\u001B[39;00m norm \u001B[38;5;129;01min\u001B[39;00m norms]), norm_type\n\u001B[1;32m    103\u001B[0m )\n\u001B[1;32m    105\u001B[0m \u001B[38;5;28;01mif\u001B[39;00m error_if_nonfinite \u001B[38;5;129;01mand\u001B[39;00m torch\u001B[38;5;241m.\u001B[39mlogical_or(total_norm\u001B[38;5;241m.\u001B[39misnan(), total_norm\u001B[38;5;241m.\u001B[39misinf()):\n",
      "\u001B[0;31mKeyboardInterrupt\u001B[0m: "
     ]
    }
   ],
   "execution_count": 15
  },
  {
   "metadata": {},
   "cell_type": "code",
   "outputs": [],
   "execution_count": null,
   "source": [
    "import pandas as pd\n",
    "import numpy as np\n",
    "from transformers import AutoTokenizer, AutoModelForSequenceClassification\n",
    "import torch\n",
    "from torch.nn.functional import softmax\n",
    "from tqdm import tqdm\n",
    "\n",
    "device = torch.device(\"cuda\" if torch.cuda.is_available() else \"cpu\")\n",
    "\n",
    "def chunk_text(text, tokenizer, max_length=512, stride=256):\n",
    "    tokens = tokenizer.encode(text, add_special_tokens=True)\n",
    "    chunks = []\n",
    "    for i in range(0, len(tokens), stride):\n",
    "        chunk = tokens[i:i + max_length]\n",
    "        if len(chunk) < 10:\n",
    "            break\n",
    "        chunks.append(tokenizer.decode(chunk, skip_special_tokens=True))\n",
    "    return chunks\n",
    "\n",
    "def add_model_features(df, model_path, text_column, prefix):\n",
    "    print(f\"\\nApplying model: {prefix} | column: {text_column}\")\n",
    "\n",
    "    tokenizer = AutoTokenizer.from_pretrained(model_path)\n",
    "    model = AutoModelForSequenceClassification.from_pretrained(model_path)\n",
    "    model.to(device)\n",
    "    model.eval()\n",
    "\n",
    "    valid_mask = df[text_column].fillna(\"\").str.strip().str.len() > 10\n",
    "    texts = df.loc[valid_mask, text_column].astype(str).tolist()\n",
    "\n",
    "    all_mean_logits = []\n",
    "    all_max_logits = []\n",
    "    all_min_logits = []\n",
    "    all_mean_probs = []\n",
    "    all_max_probs = []\n",
    "    all_min_probs = []\n",
    "\n",
    "    for text in tqdm(texts):\n",
    "        chunks = chunk_text(text, tokenizer)\n",
    "        chunk_logits = []\n",
    "        with torch.no_grad():\n",
    "            for i in range(0, len(chunks), 32):\n",
    "                batch = chunks[i:i + 32]\n",
    "                encoded = tokenizer(batch, padding=True, truncation=True, max_length=512, return_tensors=\"pt\").to(device)\n",
    "                outputs = model(**encoded)\n",
    "                logits = outputs.logits.cpu()\n",
    "                chunk_logits.append(logits)\n",
    "\n",
    "        logits = torch.cat(chunk_logits, dim=0)\n",
    "        probs = softmax(logits, dim=1)\n",
    "\n",
    "        all_mean_logits.append(logits.mean(dim=0).numpy())\n",
    "        all_max_logits.append(logits.max(dim=0).values.numpy())\n",
    "        all_min_logits.append(logits.min(dim=0).values.numpy())\n",
    "\n",
    "        all_mean_probs.append(probs.mean(dim=0).numpy())\n",
    "        all_max_probs.append(probs.max(dim=0).values.numpy())\n",
    "        all_min_probs.append(probs.min(dim=0).values.numpy())\n",
    "\n",
    "    # Assign to DataFrame\n",
    "    df.loc[valid_mask, f\"{prefix}_mean_logit_0\"] = [x[0] for x in all_mean_logits]\n",
    "    df.loc[valid_mask, f\"{prefix}_mean_logit_1\"] = [x[1] for x in all_mean_logits]\n",
    "    df.loc[valid_mask, f\"{prefix}_max_logit_0\"] = [x[0] for x in all_max_logits]\n",
    "    df.loc[valid_mask, f\"{prefix}_max_logit_1\"] = [x[1] for x in all_max_logits]\n",
    "    df.loc[valid_mask, f\"{prefix}_min_logit_0\"] = [x[0] for x in all_min_logits]\n",
    "    df.loc[valid_mask, f\"{prefix}_min_logit_1\"] = [x[1] for x in all_min_logits]\n",
    "\n",
    "    df.loc[valid_mask, f\"{prefix}_mean_prob_0\"] = [x[0] for x in all_mean_probs]\n",
    "    df.loc[valid_mask, f\"{prefix}_mean_prob_1\"] = [x[1] for x in all_mean_probs]\n",
    "    df.loc[valid_mask, f\"{prefix}_max_prob_0\"] = [x[0] for x in all_max_probs]\n",
    "    df.loc[valid_mask, f\"{prefix}_max_prob_1\"] = [x[1] for x in all_max_probs]\n",
    "    df.loc[valid_mask, f\"{prefix}_min_prob_0\"] = [x[0] for x in all_min_probs]\n",
    "    df.loc[valid_mask, f\"{prefix}_min_prob_1\"] = [x[1] for x in all_min_probs]\n",
    "\n",
    "    return df"
   ],
   "id": "7df16bf9-d14c-4595-9ef1-0ec11c6700c1"
  },
  {
   "cell_type": "code",
   "id": "04d4693c-63f9-415f-8a8b-0276a9703f25",
   "metadata": {
    "tags": []
   },
   "source": [
    "import pandas as pd\n",
    "from helpers.text_classifier_helper import TextClassifierHelper\n",
    "\n",
    "df = pd.read_csv(\"uk_holdout_with_all_manip_features.csv\")\n",
    "\n",
    "insert_helper = TextClassifierHelper(\"./model_insert/checkpoint-15951\")\n",
    "remove_helper = TextClassifierHelper(\"./model_remove/checkpoint-6632\")\n",
    "change_helper = TextClassifierHelper(\"./model_change/checkpoint-16330\")\n",
    "title_helper = TextClassifierHelper(\"./model_title/checkpoint-37524\")\n",
    "\n",
    "df = insert_helper.classify_column(df, text_column=\"texts_insert\", prefix=\"manip_insert\")\n",
    "df = remove_helper.classify_column(df, text_column=\"texts_removed\", prefix=\"manip_remove\")\n",
    "df = change_helper.classify_column(df, text_column=\"texts_change\", prefix=\"manip_change\")\n",
    "df = title_helper.classify_column(df, text_column=\"page_title\", prefix=\"manip_title\")\n",
    "\n",
    "df.to_csv(\"uk_holdout_with_all_manip_features_and_logits.csv\", index=False)"
   ],
   "outputs": [],
   "execution_count": null
  },
  {
   "cell_type": "code",
   "id": "a10a728d-5fa0-4f76-b2e1-5957086a0aa7",
   "metadata": {},
   "source": [],
   "outputs": [],
   "execution_count": null
  }
 ],
 "metadata": {
  "kernelspec": {
   "display_name": "Python 3 (ipykernel)",
   "language": "python",
   "name": "python3"
  },
  "language_info": {
   "codemirror_mode": {
    "name": "ipython",
    "version": 3
   },
   "file_extension": ".py",
   "mimetype": "text/x-python",
   "name": "python",
   "nbconvert_exporter": "python",
   "pygments_lexer": "ipython3",
   "version": "3.11.6"
  }
 },
 "nbformat": 4,
 "nbformat_minor": 5
}
